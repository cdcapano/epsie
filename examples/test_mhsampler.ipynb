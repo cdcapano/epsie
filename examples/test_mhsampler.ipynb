{
 "cells": [
  {
   "cell_type": "markdown",
   "metadata": {},
   "source": [
    "# Example of creating and running a Metropolis-Hastings Sampler"
   ]
  },
  {
   "cell_type": "markdown",
   "metadata": {},
   "source": [
    "In this notebook we will setup a sampler to sample a 2D Gaussian distribution with mean $\\bar{x} = 2, \\bar{y} = 5$ and variance $\\sigma_x^2 = 1$, $\\sigma_y^2 = 2$; $\\sigma^2_{xy} = \\sigma^2_{yx} = 0$, using a prior that is uniform over $x \\in [-20, 20)$, $y\\in[-40, 40)$.\n",
    "\n",
    "We will use Python's multiprocessing to evolve 12 chains using 4 cores. We will demonstrate that resuming a sampler from it's state attribute yields the same results as if we had run continuously. We then make a plot of the posterior. Finally, we make an animation showing how the 12 chains moved."
   ]
  },
  {
   "cell_type": "code",
   "execution_count": 1,
   "metadata": {},
   "outputs": [],
   "source": [
    "from __future__ import print_function\n",
    "\n",
    "%matplotlib notebook\n",
    "from matplotlib import pyplot\n",
    "import numpy\n",
    "import randomgen\n",
    "\n",
    "import epsie\n",
    "from epsie.samplers import MetropolisHastingsSampler\n",
    "import multiprocessing"
   ]
  },
  {
   "cell_type": "markdown",
   "metadata": {},
   "source": [
    "## Create the model to sample"
   ]
  },
  {
   "cell_type": "markdown",
   "metadata": {},
   "source": [
    "***Note:*** Below we create a class with several functions to draw samples from the prior and to evaluate the log posterior. This isn't strictly necessary. The only thing the Sampler really requires is a function that it can pass keyword arguments to and get back a tuple of (log likelihood, log prior). However, setting things up as a class will make it convenient to, e.g., draw random samples from the prior for the starting positiions, as well as plot the model later on."
   ]
  },
  {
   "cell_type": "code",
   "execution_count": 2,
   "metadata": {},
   "outputs": [],
   "source": [
    "from scipy import stats\n",
    "class Model(object):\n",
    "    def __init__(self):\n",
    "        # we'll use a 2D Gaussian for the likelihood distribution\n",
    "        self.params = ['x', 'y']\n",
    "        self.mean = [2., 5.]\n",
    "        self.cov = [[1., 0.], [0., 2.]]\n",
    "        self.likelihood_dist = stats.multivariate_normal(mean=self.mean,\n",
    "                                                         cov=self.cov)\n",
    "\n",
    "        # we'll just use a uniform prior\n",
    "        self.prior_bounds = {'x': (-20., 20.),\n",
    "                             'y': (-40., 40.)}\n",
    "        xmin = self.prior_bounds['x'][0]\n",
    "        dx = self.prior_bounds['x'][1] - xmin\n",
    "        ymin = self.prior_bounds['y'][0]\n",
    "        dy = self.prior_bounds['y'][1] - ymin\n",
    "        self.prior_dist = {'x': stats.uniform(xmin, dx),\n",
    "                           'y': stats.uniform(ymin, dy)}\n",
    "\n",
    "    def prior_rvs(self, size=None):\n",
    "        return {p: self.prior_dist[p].rvs(size=size)\n",
    "                for p in self.params}\n",
    "    \n",
    "    def logprior(self, **kwargs):\n",
    "        return sum([self.prior_dist[p].logpdf(kwargs[p]) for p in self.params])\n",
    "    \n",
    "    def loglikelihood(self, **kwargs):\n",
    "        return self.likelihood_dist.logpdf([kwargs[p] for p in self.params])\n",
    "    \n",
    "    def __call__(self, **kwargs):\n",
    "        logp = self.logprior(**kwargs)\n",
    "        if logp == -numpy.inf:\n",
    "            logl = None\n",
    "        else:\n",
    "            logl = self.loglikelihood(**kwargs)\n",
    "        return logl, logp"
   ]
  },
  {
   "cell_type": "code",
   "execution_count": 3,
   "metadata": {},
   "outputs": [],
   "source": [
    "model = Model()"
   ]
  },
  {
   "cell_type": "markdown",
   "metadata": {},
   "source": [
    "## Setup and run the sampler"
   ]
  },
  {
   "cell_type": "markdown",
   "metadata": {},
   "source": [
    "Create a pool of 4 parallel processes, then initialize the sampler using the model we created above."
   ]
  },
  {
   "cell_type": "code",
   "execution_count": 4,
   "metadata": {},
   "outputs": [],
   "source": [
    "nchains = 12\n",
    "nprocs = 4\n",
    "pool = multiprocessing.Pool(nprocs)\n",
    "\n",
    "sampler = MetropolisHastingsSampler(model.params, model, nchains, pool=pool)"
   ]
  },
  {
   "cell_type": "markdown",
   "metadata": {},
   "source": [
    "Now set the starting positions of the chains by drawing random variates from the model's prior."
   ]
  },
  {
   "cell_type": "code",
   "execution_count": 5,
   "metadata": {},
   "outputs": [],
   "source": [
    "sampler.start_position = model.prior_rvs(size=nchains)"
   ]
  },
  {
   "cell_type": "markdown",
   "metadata": {},
   "source": [
    "### Let's run it!"
   ]
  },
  {
   "cell_type": "markdown",
   "metadata": {},
   "source": [
    "This will evolve each chain in the collection by 256 steps. This is parallelized over the pool of processes."
   ]
  },
  {
   "cell_type": "code",
   "execution_count": 6,
   "metadata": {},
   "outputs": [],
   "source": [
    "sampler.run(256)"
   ]
  },
  {
   "cell_type": "markdown",
   "metadata": {},
   "source": [
    "## Extract results"
   ]
  },
  {
   "cell_type": "markdown",
   "metadata": {},
   "source": [
    "We can get the history of all of the chains using the `.positions` attribute. This will return a numpy structured array in which the fields are the parameters names (in this case, `'x'` and `'y'`), and with shape `nchains x niterations`:"
   ]
  },
  {
   "cell_type": "code",
   "execution_count": 7,
   "metadata": {},
   "outputs": [
    {
     "name": "stdout",
     "output_type": "stream",
     "text": [
      "sampler.positions: <class 'numpy.ndarray'>\n",
      "with fields: ('x', 'y')\n",
      "and shape: (12, 256)\n"
     ]
    }
   ],
   "source": [
    "positions = sampler.positions\n",
    "print('sampler.positions: {}'.format(type(positions)))\n",
    "print('with fields: {}'.format(positions.dtype.names))\n",
    "print('and shape:', positions.shape)"
   ]
  },
  {
   "cell_type": "markdown",
   "metadata": {},
   "source": [
    "This (or any structured array returned by epsie) can be turned into a dictionary of arrays, where the keys are the parameter names, using `epsie.array2dict`:"
   ]
  },
  {
   "cell_type": "code",
   "execution_count": 8,
   "metadata": {},
   "outputs": [
    {
     "name": "stdout",
     "output_type": "stream",
     "text": [
      "sampler.positions: <class 'dict'> with keys/values:\n",
      "\"x\": <class 'numpy.ndarray'> with shape (12, 256)\n",
      "\"y\": <class 'numpy.ndarray'> with shape (12, 256)\n"
     ]
    }
   ],
   "source": [
    "positions = epsie.array2dict(sampler.positions)\n",
    "print('sampler.positions: {} with keys/values:'.format(type(positions)))\n",
    "for param in sorted(positions):\n",
    "    print('\"{}\": {} with shape {}'.format(param, type(positions[param]), positions[param].shape))"
   ]
  },
  {
   "cell_type": "markdown",
   "metadata": {},
   "source": [
    "We can also access the history of log likelihoods and log priors using `sampler.stats`, as well as the acceptance ratios and which jumps were accepted with `sampler.acceptance`:"
   ]
  },
  {
   "cell_type": "code",
   "execution_count": 9,
   "metadata": {},
   "outputs": [
    {
     "name": "stdout",
     "output_type": "stream",
     "text": [
      "sampler.stats: <class 'numpy.ndarray'>\n",
      "with fields: ('logl', 'logp')\n",
      "and shape: (12, 256)\n"
     ]
    }
   ],
   "source": [
    "stats = sampler.stats\n",
    "print('sampler.stats: {}'.format(type(stats)))\n",
    "print('with fields: {}'.format(stats.dtype.names))\n",
    "print('and shape:', stats.shape)"
   ]
  },
  {
   "cell_type": "code",
   "execution_count": 10,
   "metadata": {},
   "outputs": [
    {
     "name": "stdout",
     "output_type": "stream",
     "text": [
      "sampler.acceptance: <class 'numpy.ndarray'>\n",
      "with fields: ('acceptance_ratio', 'accepted')\n",
      "and shape: (12, 256)\n"
     ]
    }
   ],
   "source": [
    "acceptance = sampler.acceptance\n",
    "print('sampler.acceptance: {}'.format(type(acceptance)))\n",
    "print('with fields: {}'.format(acceptance.dtype.names))\n",
    "print('and shape:', acceptance.shape)"
   ]
  },
  {
   "cell_type": "markdown",
   "metadata": {},
   "source": [
    "If the model returned \"blobs\" (i.e., the model returns a dictionary along with the logl and logp), then we can also access those using `sampler.blobs`. Similar to `positions`, this would also be a dictionary of arrays with keys given by the names in the dictionary the model returned. However, because our model above returns no blobs, in this case we just get `None`:"
   ]
  },
  {
   "cell_type": "code",
   "execution_count": 11,
   "metadata": {},
   "outputs": [
    {
     "name": "stdout",
     "output_type": "stream",
     "text": [
      "None\n"
     ]
    }
   ],
   "source": [
    "print(sampler.blobs)"
   ]
  },
  {
   "cell_type": "markdown",
   "metadata": {},
   "source": [
    "The individual chains can be accessed using the `.chains` attribute:"
   ]
  },
  {
   "cell_type": "code",
   "execution_count": 12,
   "metadata": {},
   "outputs": [
    {
     "data": {
      "text/plain": [
       "[<epsie.chain.chain.Chain at 0x11e6f2c18>,\n",
       " <epsie.chain.chain.Chain at 0x11e6f2780>,\n",
       " <epsie.chain.chain.Chain at 0x11e6f2e10>,\n",
       " <epsie.chain.chain.Chain at 0x11e6f9dd8>,\n",
       " <epsie.chain.chain.Chain at 0x11e6f2d30>,\n",
       " <epsie.chain.chain.Chain at 0x11e701748>,\n",
       " <epsie.chain.chain.Chain at 0x11e6f2d68>,\n",
       " <epsie.chain.chain.Chain at 0x11e701e80>,\n",
       " <epsie.chain.chain.Chain at 0x11e709630>,\n",
       " <epsie.chain.chain.Chain at 0x11e7011d0>,\n",
       " <epsie.chain.chain.Chain at 0x11e709400>,\n",
       " <epsie.chain.chain.Chain at 0x11e70c908>]"
      ]
     },
     "execution_count": 12,
     "metadata": {},
     "output_type": "execute_result"
    }
   ],
   "source": [
    "sampler.chains"
   ]
  },
  {
   "cell_type": "markdown",
   "metadata": {},
   "source": [
    "## Resume from a state"
   ]
  },
  {
   "cell_type": "markdown",
   "metadata": {},
   "source": [
    "The sampler can be checkpointed by getting its current state with `sampler.state`. To demonstrate this, we'll get the current state of the sampler, then run it for another set of iterations. We'll then create a new sampler, and set it's state to the state we obtained from first sampler. Running the same sampler for the same number of iterations should produce the same results."
   ]
  },
  {
   "cell_type": "code",
   "execution_count": 13,
   "metadata": {},
   "outputs": [],
   "source": [
    "# get the current state\n",
    "state = sampler.state"
   ]
  },
  {
   "cell_type": "code",
   "execution_count": 14,
   "metadata": {},
   "outputs": [],
   "source": [
    "# now advance the sampler for another 256 iterations\n",
    "sampler.run(256)"
   ]
  },
  {
   "cell_type": "code",
   "execution_count": 15,
   "metadata": {},
   "outputs": [],
   "source": [
    "# create a new sampler, but set it's state to what the original sampler's was after the first 250 iterations\n",
    "sampler2 = MetropolisHastingsSampler(model.params, model, nchains, pool=pool)\n",
    "sampler2.set_state(state)"
   ]
  },
  {
   "cell_type": "code",
   "execution_count": 16,
   "metadata": {},
   "outputs": [],
   "source": [
    "# now advance the new sampler for 256 iterations\n",
    "# note that we don't have to run set_start first, since the starting positions have been set by set_start\n",
    "sampler2.run(256)"
   ]
  },
  {
   "cell_type": "code",
   "execution_count": 17,
   "metadata": {},
   "outputs": [
    {
     "name": "stdout",
     "output_type": "stream",
     "text": [
      "x: True\n",
      "y: True\n",
      "logl: True\n",
      "logp: True\n",
      "acceptance ratio: True\n",
      "accepted: True\n"
     ]
    }
   ],
   "source": [
    "# compare the current results; they should be the same between sampler2 and sampler\n",
    "print('x:', (sampler.current_positions['x'] == sampler2.current_positions['x']).all())\n",
    "print('y:', (sampler.current_positions['y'] == sampler2.current_positions['y']).all())\n",
    "print('logl:', (sampler.current_stats['logl'] == sampler2.current_stats['logl']).all())\n",
    "print('logp:', (sampler.current_stats['logp'] == sampler2.current_stats['logp']).all())\n",
    "print('acceptance ratio:',\n",
    "      (sampler.acceptance['acceptance_ratio'][:,-1] == sampler2.acceptance['acceptance_ratio'][:,-1]).all())\n",
    "print('accepted:',\n",
    "      (sampler.acceptance['accepted'][:,-1] == sampler2.acceptance['accepted'][:,-1]).all())"
   ]
  },
  {
   "cell_type": "markdown",
   "metadata": {},
   "source": [
    "## Clearing memory and continuing"
   ]
  },
  {
   "cell_type": "markdown",
   "metadata": {},
   "source": [
    "The history of results in memory can be cleared using `.clear()`. Running the sampler after a clear yields the same results as if no clear had been done. This is useful for keeping memory usage down: you can dump results to a file after some number of iterations, clear, then continue.\n",
    "\n",
    "To demonstrate this, we'll clear `sampler2`, then run both `sampler` and `sampler2` for another 512 iterations. We'll then compare the current results; they should be the same."
   ]
  },
  {
   "cell_type": "code",
   "execution_count": 18,
   "metadata": {},
   "outputs": [],
   "source": [
    "sampler2.clear()"
   ]
  },
  {
   "cell_type": "code",
   "execution_count": 19,
   "metadata": {},
   "outputs": [],
   "source": [
    "sampler.run(512)\n",
    "sampler2.run(512)"
   ]
  },
  {
   "cell_type": "code",
   "execution_count": 20,
   "metadata": {},
   "outputs": [
    {
     "name": "stdout",
     "output_type": "stream",
     "text": [
      "x: True\n",
      "y: True\n",
      "logl: True\n",
      "logp: True\n",
      "acceptance ratio: True\n",
      "accepted: True\n"
     ]
    }
   ],
   "source": [
    "# compare the current results; they should be the same between sampler2 and sampler\n",
    "print('x:', (sampler.current_positions['x'] == sampler2.current_positions['x']).all())\n",
    "print('y:', (sampler.current_positions['y'] == sampler2.current_positions['y']).all())\n",
    "print('logl:', (sampler.current_stats['logl'] == sampler2.current_stats['logl']).all())\n",
    "print('logp:', (sampler.current_stats['logp'] == sampler2.current_stats['logp']).all())\n",
    "print('acceptance ratio:',\n",
    "      (sampler.acceptance['acceptance_ratio'][:,-1] == sampler2.acceptance['acceptance_ratio'][:,-1]).all())\n",
    "print('accepted:',\n",
    "      (sampler.acceptance['accepted'][:,-1] == sampler2.acceptance['accepted'][:,-1]).all())"
   ]
  },
  {
   "cell_type": "markdown",
   "metadata": {},
   "source": [
    "## Plot the posterior\n",
    "Let's create a scatter plot of the posterior. For this, we'll need to throw out some earlier samples for the burn-in period; we'll just assume the first-half of the chains were burn in. We also need to calculate the autocorrelation length of the chains in order to get independent samples."
   ]
  },
  {
   "cell_type": "code",
   "execution_count": 21,
   "metadata": {},
   "outputs": [],
   "source": [
    "def calculate_acf(data):\n",
    "    \"\"\"Calculates the autocorrelation of some data\"\"\"\n",
    "    # zero the mean\n",
    "    data = data - data.mean()\n",
    "    # zero-pad to 2 * nearest power of 2\n",
    "    newlen = int(2**(1+numpy.ceil(numpy.log2(len(data)))))\n",
    "    x = numpy.zeros(newlen)\n",
    "    x[:len(data)] = data[:]\n",
    "    # correlate\n",
    "    acf = numpy.correlate(x, x, mode='full')\n",
    "    # drop corrupted region\n",
    "    acf = acf[len(acf)//2:]\n",
    "    # normalize\n",
    "    acf /= acf[0]\n",
    "    return acf\n",
    "\n",
    "def calculate_acl(data):\n",
    "    \"\"\"Calculates the autocorrelation length of some data.\n",
    "    \n",
    "    Algorithm used is from:\n",
    "    N. Madras and A.D. Sokal, J. Stat. Phys. 50, 109 (1988).\n",
    "    \"\"\"\n",
    "    # calculate the acf\n",
    "    acf = calculate_acf(data)\n",
    "    # now the ACL: Following from Sokal, this is estimated\n",
    "    # as the first point where M*tau[k] <= k, where\n",
    "    # tau = 2*cumsum(acf) - 1, and M is a tuneable parameter,\n",
    "    # generally chosen to be = 5 (which we use here)\n",
    "    m = 5\n",
    "    cacf = 2.*numpy.cumsum(acf) - 1.\n",
    "    win = m * cacf <= numpy.arange(len(cacf))\n",
    "    if win.any():\n",
    "        acl = int(numpy.ceil(cacf[numpy.where(win)[0][0]]))\n",
    "    else:\n",
    "        # data is too short to estimate the ACL, just choose\n",
    "        # the length of the data\n",
    "        acl = len(data)\n",
    "    return acl"
   ]
  },
  {
   "cell_type": "markdown",
   "metadata": {},
   "source": [
    "Since the chains are completely independent of each other, we can calculate the ACL separately for each chain. However, if you'd like to be more conservative, you can also just take the max over all of the chains."
   ]
  },
  {
   "cell_type": "code",
   "execution_count": 22,
   "metadata": {},
   "outputs": [],
   "source": [
    "# get the samples; recall that this is a dictionary of \n",
    "# nchains x niterations arrays for each parameter\n",
    "samples = sampler.positions\n",
    "# as we said above, we'll assume the first half\n",
    "# of the chain was burn in\n",
    "burnin_iter = sampler.niterations // 2\n",
    "# set up arrays to store the ACL of each chain and\n",
    "# the thinned chains\n",
    "acls = numpy.zeros(nchains, dtype=int)\n",
    "thinned_arrays = {'x': [], 'y': []}\n",
    "# cycle over the chains, calculating the ACLs and thinning them\n",
    "for ii in range(nchains):\n",
    "    # get the second half of the chains\n",
    "    sx = samples['x'][ii, burnin_iter:]\n",
    "    sy = samples['y'][ii, burnin_iter:]\n",
    "    # compute the acl for each parameter\n",
    "    aclx = calculate_acl(sx)\n",
    "    acly = calculate_acl(sy)\n",
    "    acl = max(aclx, acly)\n",
    "    acls[ii] = acl\n",
    "    # note that we'll thin the arrays starting from the\n",
    "    # end to get the lastest results\n",
    "    thinned_arrays['x'].append(sx[::-1][:acl:][::-1])\n",
    "    thinned_arrays['y'].append(sy[::-1][:acl:][::-1])    "
   ]
  },
  {
   "cell_type": "code",
   "execution_count": 23,
   "metadata": {},
   "outputs": [
    {
     "name": "stdout",
     "output_type": "stream",
     "text": [
      "[ 7. 11. 11. 15. 31.  9. 23. 14. 12. 19. 19.  9.]\n"
     ]
    }
   ],
   "source": [
    "# the ACL of each chain:\n",
    "print(acls)"
   ]
  },
  {
   "cell_type": "code",
   "execution_count": 24,
   "metadata": {},
   "outputs": [
    {
     "name": "stdout",
     "output_type": "stream",
     "text": [
      "Number of independent samples: 180\n"
     ]
    }
   ],
   "source": [
    "# create a flattened posterior array\n",
    "posterior = {'x': numpy.concatenate(thinned_arrays['x']),\n",
    "             'y': numpy.concatenate(thinned_arrays['y'])}\n",
    "print(\"Number of independent samples:\", posterior['x'].size)"
   ]
  },
  {
   "cell_type": "code",
   "execution_count": 25,
   "metadata": {},
   "outputs": [
    {
     "data": {
      "application/javascript": [
       "/* Put everything inside the global mpl namespace */\n",
       "window.mpl = {};\n",
       "\n",
       "\n",
       "mpl.get_websocket_type = function() {\n",
       "    if (typeof(WebSocket) !== 'undefined') {\n",
       "        return WebSocket;\n",
       "    } else if (typeof(MozWebSocket) !== 'undefined') {\n",
       "        return MozWebSocket;\n",
       "    } else {\n",
       "        alert('Your browser does not have WebSocket support. ' +\n",
       "              'Please try Chrome, Safari or Firefox ≥ 6. ' +\n",
       "              'Firefox 4 and 5 are also supported but you ' +\n",
       "              'have to enable WebSockets in about:config.');\n",
       "    };\n",
       "}\n",
       "\n",
       "mpl.figure = function(figure_id, websocket, ondownload, parent_element) {\n",
       "    this.id = figure_id;\n",
       "\n",
       "    this.ws = websocket;\n",
       "\n",
       "    this.supports_binary = (this.ws.binaryType != undefined);\n",
       "\n",
       "    if (!this.supports_binary) {\n",
       "        var warnings = document.getElementById(\"mpl-warnings\");\n",
       "        if (warnings) {\n",
       "            warnings.style.display = 'block';\n",
       "            warnings.textContent = (\n",
       "                \"This browser does not support binary websocket messages. \" +\n",
       "                    \"Performance may be slow.\");\n",
       "        }\n",
       "    }\n",
       "\n",
       "    this.imageObj = new Image();\n",
       "\n",
       "    this.context = undefined;\n",
       "    this.message = undefined;\n",
       "    this.canvas = undefined;\n",
       "    this.rubberband_canvas = undefined;\n",
       "    this.rubberband_context = undefined;\n",
       "    this.format_dropdown = undefined;\n",
       "\n",
       "    this.image_mode = 'full';\n",
       "\n",
       "    this.root = $('<div/>');\n",
       "    this._root_extra_style(this.root)\n",
       "    this.root.attr('style', 'display: inline-block');\n",
       "\n",
       "    $(parent_element).append(this.root);\n",
       "\n",
       "    this._init_header(this);\n",
       "    this._init_canvas(this);\n",
       "    this._init_toolbar(this);\n",
       "\n",
       "    var fig = this;\n",
       "\n",
       "    this.waiting = false;\n",
       "\n",
       "    this.ws.onopen =  function () {\n",
       "            fig.send_message(\"supports_binary\", {value: fig.supports_binary});\n",
       "            fig.send_message(\"send_image_mode\", {});\n",
       "            if (mpl.ratio != 1) {\n",
       "                fig.send_message(\"set_dpi_ratio\", {'dpi_ratio': mpl.ratio});\n",
       "            }\n",
       "            fig.send_message(\"refresh\", {});\n",
       "        }\n",
       "\n",
       "    this.imageObj.onload = function() {\n",
       "            if (fig.image_mode == 'full') {\n",
       "                // Full images could contain transparency (where diff images\n",
       "                // almost always do), so we need to clear the canvas so that\n",
       "                // there is no ghosting.\n",
       "                fig.context.clearRect(0, 0, fig.canvas.width, fig.canvas.height);\n",
       "            }\n",
       "            fig.context.drawImage(fig.imageObj, 0, 0);\n",
       "        };\n",
       "\n",
       "    this.imageObj.onunload = function() {\n",
       "        fig.ws.close();\n",
       "    }\n",
       "\n",
       "    this.ws.onmessage = this._make_on_message_function(this);\n",
       "\n",
       "    this.ondownload = ondownload;\n",
       "}\n",
       "\n",
       "mpl.figure.prototype._init_header = function() {\n",
       "    var titlebar = $(\n",
       "        '<div class=\"ui-dialog-titlebar ui-widget-header ui-corner-all ' +\n",
       "        'ui-helper-clearfix\"/>');\n",
       "    var titletext = $(\n",
       "        '<div class=\"ui-dialog-title\" style=\"width: 100%; ' +\n",
       "        'text-align: center; padding: 3px;\"/>');\n",
       "    titlebar.append(titletext)\n",
       "    this.root.append(titlebar);\n",
       "    this.header = titletext[0];\n",
       "}\n",
       "\n",
       "\n",
       "\n",
       "mpl.figure.prototype._canvas_extra_style = function(canvas_div) {\n",
       "\n",
       "}\n",
       "\n",
       "\n",
       "mpl.figure.prototype._root_extra_style = function(canvas_div) {\n",
       "\n",
       "}\n",
       "\n",
       "mpl.figure.prototype._init_canvas = function() {\n",
       "    var fig = this;\n",
       "\n",
       "    var canvas_div = $('<div/>');\n",
       "\n",
       "    canvas_div.attr('style', 'position: relative; clear: both; outline: 0');\n",
       "\n",
       "    function canvas_keyboard_event(event) {\n",
       "        return fig.key_event(event, event['data']);\n",
       "    }\n",
       "\n",
       "    canvas_div.keydown('key_press', canvas_keyboard_event);\n",
       "    canvas_div.keyup('key_release', canvas_keyboard_event);\n",
       "    this.canvas_div = canvas_div\n",
       "    this._canvas_extra_style(canvas_div)\n",
       "    this.root.append(canvas_div);\n",
       "\n",
       "    var canvas = $('<canvas/>');\n",
       "    canvas.addClass('mpl-canvas');\n",
       "    canvas.attr('style', \"left: 0; top: 0; z-index: 0; outline: 0\")\n",
       "\n",
       "    this.canvas = canvas[0];\n",
       "    this.context = canvas[0].getContext(\"2d\");\n",
       "\n",
       "    var backingStore = this.context.backingStorePixelRatio ||\n",
       "\tthis.context.webkitBackingStorePixelRatio ||\n",
       "\tthis.context.mozBackingStorePixelRatio ||\n",
       "\tthis.context.msBackingStorePixelRatio ||\n",
       "\tthis.context.oBackingStorePixelRatio ||\n",
       "\tthis.context.backingStorePixelRatio || 1;\n",
       "\n",
       "    mpl.ratio = (window.devicePixelRatio || 1) / backingStore;\n",
       "\n",
       "    var rubberband = $('<canvas/>');\n",
       "    rubberband.attr('style', \"position: absolute; left: 0; top: 0; z-index: 1;\")\n",
       "\n",
       "    var pass_mouse_events = true;\n",
       "\n",
       "    canvas_div.resizable({\n",
       "        start: function(event, ui) {\n",
       "            pass_mouse_events = false;\n",
       "        },\n",
       "        resize: function(event, ui) {\n",
       "            fig.request_resize(ui.size.width, ui.size.height);\n",
       "        },\n",
       "        stop: function(event, ui) {\n",
       "            pass_mouse_events = true;\n",
       "            fig.request_resize(ui.size.width, ui.size.height);\n",
       "        },\n",
       "    });\n",
       "\n",
       "    function mouse_event_fn(event) {\n",
       "        if (pass_mouse_events)\n",
       "            return fig.mouse_event(event, event['data']);\n",
       "    }\n",
       "\n",
       "    rubberband.mousedown('button_press', mouse_event_fn);\n",
       "    rubberband.mouseup('button_release', mouse_event_fn);\n",
       "    // Throttle sequential mouse events to 1 every 20ms.\n",
       "    rubberband.mousemove('motion_notify', mouse_event_fn);\n",
       "\n",
       "    rubberband.mouseenter('figure_enter', mouse_event_fn);\n",
       "    rubberband.mouseleave('figure_leave', mouse_event_fn);\n",
       "\n",
       "    canvas_div.on(\"wheel\", function (event) {\n",
       "        event = event.originalEvent;\n",
       "        event['data'] = 'scroll'\n",
       "        if (event.deltaY < 0) {\n",
       "            event.step = 1;\n",
       "        } else {\n",
       "            event.step = -1;\n",
       "        }\n",
       "        mouse_event_fn(event);\n",
       "    });\n",
       "\n",
       "    canvas_div.append(canvas);\n",
       "    canvas_div.append(rubberband);\n",
       "\n",
       "    this.rubberband = rubberband;\n",
       "    this.rubberband_canvas = rubberband[0];\n",
       "    this.rubberband_context = rubberband[0].getContext(\"2d\");\n",
       "    this.rubberband_context.strokeStyle = \"#000000\";\n",
       "\n",
       "    this._resize_canvas = function(width, height) {\n",
       "        // Keep the size of the canvas, canvas container, and rubber band\n",
       "        // canvas in synch.\n",
       "        canvas_div.css('width', width)\n",
       "        canvas_div.css('height', height)\n",
       "\n",
       "        canvas.attr('width', width * mpl.ratio);\n",
       "        canvas.attr('height', height * mpl.ratio);\n",
       "        canvas.attr('style', 'width: ' + width + 'px; height: ' + height + 'px;');\n",
       "\n",
       "        rubberband.attr('width', width);\n",
       "        rubberband.attr('height', height);\n",
       "    }\n",
       "\n",
       "    // Set the figure to an initial 600x600px, this will subsequently be updated\n",
       "    // upon first draw.\n",
       "    this._resize_canvas(600, 600);\n",
       "\n",
       "    // Disable right mouse context menu.\n",
       "    $(this.rubberband_canvas).bind(\"contextmenu\",function(e){\n",
       "        return false;\n",
       "    });\n",
       "\n",
       "    function set_focus () {\n",
       "        canvas.focus();\n",
       "        canvas_div.focus();\n",
       "    }\n",
       "\n",
       "    window.setTimeout(set_focus, 100);\n",
       "}\n",
       "\n",
       "mpl.figure.prototype._init_toolbar = function() {\n",
       "    var fig = this;\n",
       "\n",
       "    var nav_element = $('<div/>');\n",
       "    nav_element.attr('style', 'width: 100%');\n",
       "    this.root.append(nav_element);\n",
       "\n",
       "    // Define a callback function for later on.\n",
       "    function toolbar_event(event) {\n",
       "        return fig.toolbar_button_onclick(event['data']);\n",
       "    }\n",
       "    function toolbar_mouse_event(event) {\n",
       "        return fig.toolbar_button_onmouseover(event['data']);\n",
       "    }\n",
       "\n",
       "    for(var toolbar_ind in mpl.toolbar_items) {\n",
       "        var name = mpl.toolbar_items[toolbar_ind][0];\n",
       "        var tooltip = mpl.toolbar_items[toolbar_ind][1];\n",
       "        var image = mpl.toolbar_items[toolbar_ind][2];\n",
       "        var method_name = mpl.toolbar_items[toolbar_ind][3];\n",
       "\n",
       "        if (!name) {\n",
       "            // put a spacer in here.\n",
       "            continue;\n",
       "        }\n",
       "        var button = $('<button/>');\n",
       "        button.addClass('ui-button ui-widget ui-state-default ui-corner-all ' +\n",
       "                        'ui-button-icon-only');\n",
       "        button.attr('role', 'button');\n",
       "        button.attr('aria-disabled', 'false');\n",
       "        button.click(method_name, toolbar_event);\n",
       "        button.mouseover(tooltip, toolbar_mouse_event);\n",
       "\n",
       "        var icon_img = $('<span/>');\n",
       "        icon_img.addClass('ui-button-icon-primary ui-icon');\n",
       "        icon_img.addClass(image);\n",
       "        icon_img.addClass('ui-corner-all');\n",
       "\n",
       "        var tooltip_span = $('<span/>');\n",
       "        tooltip_span.addClass('ui-button-text');\n",
       "        tooltip_span.html(tooltip);\n",
       "\n",
       "        button.append(icon_img);\n",
       "        button.append(tooltip_span);\n",
       "\n",
       "        nav_element.append(button);\n",
       "    }\n",
       "\n",
       "    var fmt_picker_span = $('<span/>');\n",
       "\n",
       "    var fmt_picker = $('<select/>');\n",
       "    fmt_picker.addClass('mpl-toolbar-option ui-widget ui-widget-content');\n",
       "    fmt_picker_span.append(fmt_picker);\n",
       "    nav_element.append(fmt_picker_span);\n",
       "    this.format_dropdown = fmt_picker[0];\n",
       "\n",
       "    for (var ind in mpl.extensions) {\n",
       "        var fmt = mpl.extensions[ind];\n",
       "        var option = $(\n",
       "            '<option/>', {selected: fmt === mpl.default_extension}).html(fmt);\n",
       "        fmt_picker.append(option);\n",
       "    }\n",
       "\n",
       "    // Add hover states to the ui-buttons\n",
       "    $( \".ui-button\" ).hover(\n",
       "        function() { $(this).addClass(\"ui-state-hover\");},\n",
       "        function() { $(this).removeClass(\"ui-state-hover\");}\n",
       "    );\n",
       "\n",
       "    var status_bar = $('<span class=\"mpl-message\"/>');\n",
       "    nav_element.append(status_bar);\n",
       "    this.message = status_bar[0];\n",
       "}\n",
       "\n",
       "mpl.figure.prototype.request_resize = function(x_pixels, y_pixels) {\n",
       "    // Request matplotlib to resize the figure. Matplotlib will then trigger a resize in the client,\n",
       "    // which will in turn request a refresh of the image.\n",
       "    this.send_message('resize', {'width': x_pixels, 'height': y_pixels});\n",
       "}\n",
       "\n",
       "mpl.figure.prototype.send_message = function(type, properties) {\n",
       "    properties['type'] = type;\n",
       "    properties['figure_id'] = this.id;\n",
       "    this.ws.send(JSON.stringify(properties));\n",
       "}\n",
       "\n",
       "mpl.figure.prototype.send_draw_message = function() {\n",
       "    if (!this.waiting) {\n",
       "        this.waiting = true;\n",
       "        this.ws.send(JSON.stringify({type: \"draw\", figure_id: this.id}));\n",
       "    }\n",
       "}\n",
       "\n",
       "\n",
       "mpl.figure.prototype.handle_save = function(fig, msg) {\n",
       "    var format_dropdown = fig.format_dropdown;\n",
       "    var format = format_dropdown.options[format_dropdown.selectedIndex].value;\n",
       "    fig.ondownload(fig, format);\n",
       "}\n",
       "\n",
       "\n",
       "mpl.figure.prototype.handle_resize = function(fig, msg) {\n",
       "    var size = msg['size'];\n",
       "    if (size[0] != fig.canvas.width || size[1] != fig.canvas.height) {\n",
       "        fig._resize_canvas(size[0], size[1]);\n",
       "        fig.send_message(\"refresh\", {});\n",
       "    };\n",
       "}\n",
       "\n",
       "mpl.figure.prototype.handle_rubberband = function(fig, msg) {\n",
       "    var x0 = msg['x0'] / mpl.ratio;\n",
       "    var y0 = (fig.canvas.height - msg['y0']) / mpl.ratio;\n",
       "    var x1 = msg['x1'] / mpl.ratio;\n",
       "    var y1 = (fig.canvas.height - msg['y1']) / mpl.ratio;\n",
       "    x0 = Math.floor(x0) + 0.5;\n",
       "    y0 = Math.floor(y0) + 0.5;\n",
       "    x1 = Math.floor(x1) + 0.5;\n",
       "    y1 = Math.floor(y1) + 0.5;\n",
       "    var min_x = Math.min(x0, x1);\n",
       "    var min_y = Math.min(y0, y1);\n",
       "    var width = Math.abs(x1 - x0);\n",
       "    var height = Math.abs(y1 - y0);\n",
       "\n",
       "    fig.rubberband_context.clearRect(\n",
       "        0, 0, fig.canvas.width / mpl.ratio, fig.canvas.height / mpl.ratio);\n",
       "\n",
       "    fig.rubberband_context.strokeRect(min_x, min_y, width, height);\n",
       "}\n",
       "\n",
       "mpl.figure.prototype.handle_figure_label = function(fig, msg) {\n",
       "    // Updates the figure title.\n",
       "    fig.header.textContent = msg['label'];\n",
       "}\n",
       "\n",
       "mpl.figure.prototype.handle_cursor = function(fig, msg) {\n",
       "    var cursor = msg['cursor'];\n",
       "    switch(cursor)\n",
       "    {\n",
       "    case 0:\n",
       "        cursor = 'pointer';\n",
       "        break;\n",
       "    case 1:\n",
       "        cursor = 'default';\n",
       "        break;\n",
       "    case 2:\n",
       "        cursor = 'crosshair';\n",
       "        break;\n",
       "    case 3:\n",
       "        cursor = 'move';\n",
       "        break;\n",
       "    }\n",
       "    fig.rubberband_canvas.style.cursor = cursor;\n",
       "}\n",
       "\n",
       "mpl.figure.prototype.handle_message = function(fig, msg) {\n",
       "    fig.message.textContent = msg['message'];\n",
       "}\n",
       "\n",
       "mpl.figure.prototype.handle_draw = function(fig, msg) {\n",
       "    // Request the server to send over a new figure.\n",
       "    fig.send_draw_message();\n",
       "}\n",
       "\n",
       "mpl.figure.prototype.handle_image_mode = function(fig, msg) {\n",
       "    fig.image_mode = msg['mode'];\n",
       "}\n",
       "\n",
       "mpl.figure.prototype.updated_canvas_event = function() {\n",
       "    // Called whenever the canvas gets updated.\n",
       "    this.send_message(\"ack\", {});\n",
       "}\n",
       "\n",
       "// A function to construct a web socket function for onmessage handling.\n",
       "// Called in the figure constructor.\n",
       "mpl.figure.prototype._make_on_message_function = function(fig) {\n",
       "    return function socket_on_message(evt) {\n",
       "        if (evt.data instanceof Blob) {\n",
       "            /* FIXME: We get \"Resource interpreted as Image but\n",
       "             * transferred with MIME type text/plain:\" errors on\n",
       "             * Chrome.  But how to set the MIME type?  It doesn't seem\n",
       "             * to be part of the websocket stream */\n",
       "            evt.data.type = \"image/png\";\n",
       "\n",
       "            /* Free the memory for the previous frames */\n",
       "            if (fig.imageObj.src) {\n",
       "                (window.URL || window.webkitURL).revokeObjectURL(\n",
       "                    fig.imageObj.src);\n",
       "            }\n",
       "\n",
       "            fig.imageObj.src = (window.URL || window.webkitURL).createObjectURL(\n",
       "                evt.data);\n",
       "            fig.updated_canvas_event();\n",
       "            fig.waiting = false;\n",
       "            return;\n",
       "        }\n",
       "        else if (typeof evt.data === 'string' && evt.data.slice(0, 21) == \"data:image/png;base64\") {\n",
       "            fig.imageObj.src = evt.data;\n",
       "            fig.updated_canvas_event();\n",
       "            fig.waiting = false;\n",
       "            return;\n",
       "        }\n",
       "\n",
       "        var msg = JSON.parse(evt.data);\n",
       "        var msg_type = msg['type'];\n",
       "\n",
       "        // Call the  \"handle_{type}\" callback, which takes\n",
       "        // the figure and JSON message as its only arguments.\n",
       "        try {\n",
       "            var callback = fig[\"handle_\" + msg_type];\n",
       "        } catch (e) {\n",
       "            console.log(\"No handler for the '\" + msg_type + \"' message type: \", msg);\n",
       "            return;\n",
       "        }\n",
       "\n",
       "        if (callback) {\n",
       "            try {\n",
       "                // console.log(\"Handling '\" + msg_type + \"' message: \", msg);\n",
       "                callback(fig, msg);\n",
       "            } catch (e) {\n",
       "                console.log(\"Exception inside the 'handler_\" + msg_type + \"' callback:\", e, e.stack, msg);\n",
       "            }\n",
       "        }\n",
       "    };\n",
       "}\n",
       "\n",
       "// from http://stackoverflow.com/questions/1114465/getting-mouse-location-in-canvas\n",
       "mpl.findpos = function(e) {\n",
       "    //this section is from http://www.quirksmode.org/js/events_properties.html\n",
       "    var targ;\n",
       "    if (!e)\n",
       "        e = window.event;\n",
       "    if (e.target)\n",
       "        targ = e.target;\n",
       "    else if (e.srcElement)\n",
       "        targ = e.srcElement;\n",
       "    if (targ.nodeType == 3) // defeat Safari bug\n",
       "        targ = targ.parentNode;\n",
       "\n",
       "    // jQuery normalizes the pageX and pageY\n",
       "    // pageX,Y are the mouse positions relative to the document\n",
       "    // offset() returns the position of the element relative to the document\n",
       "    var x = e.pageX - $(targ).offset().left;\n",
       "    var y = e.pageY - $(targ).offset().top;\n",
       "\n",
       "    return {\"x\": x, \"y\": y};\n",
       "};\n",
       "\n",
       "/*\n",
       " * return a copy of an object with only non-object keys\n",
       " * we need this to avoid circular references\n",
       " * http://stackoverflow.com/a/24161582/3208463\n",
       " */\n",
       "function simpleKeys (original) {\n",
       "  return Object.keys(original).reduce(function (obj, key) {\n",
       "    if (typeof original[key] !== 'object')\n",
       "        obj[key] = original[key]\n",
       "    return obj;\n",
       "  }, {});\n",
       "}\n",
       "\n",
       "mpl.figure.prototype.mouse_event = function(event, name) {\n",
       "    var canvas_pos = mpl.findpos(event)\n",
       "\n",
       "    if (name === 'button_press')\n",
       "    {\n",
       "        this.canvas.focus();\n",
       "        this.canvas_div.focus();\n",
       "    }\n",
       "\n",
       "    var x = canvas_pos.x * mpl.ratio;\n",
       "    var y = canvas_pos.y * mpl.ratio;\n",
       "\n",
       "    this.send_message(name, {x: x, y: y, button: event.button,\n",
       "                             step: event.step,\n",
       "                             guiEvent: simpleKeys(event)});\n",
       "\n",
       "    /* This prevents the web browser from automatically changing to\n",
       "     * the text insertion cursor when the button is pressed.  We want\n",
       "     * to control all of the cursor setting manually through the\n",
       "     * 'cursor' event from matplotlib */\n",
       "    event.preventDefault();\n",
       "    return false;\n",
       "}\n",
       "\n",
       "mpl.figure.prototype._key_event_extra = function(event, name) {\n",
       "    // Handle any extra behaviour associated with a key event\n",
       "}\n",
       "\n",
       "mpl.figure.prototype.key_event = function(event, name) {\n",
       "\n",
       "    // Prevent repeat events\n",
       "    if (name == 'key_press')\n",
       "    {\n",
       "        if (event.which === this._key)\n",
       "            return;\n",
       "        else\n",
       "            this._key = event.which;\n",
       "    }\n",
       "    if (name == 'key_release')\n",
       "        this._key = null;\n",
       "\n",
       "    var value = '';\n",
       "    if (event.ctrlKey && event.which != 17)\n",
       "        value += \"ctrl+\";\n",
       "    if (event.altKey && event.which != 18)\n",
       "        value += \"alt+\";\n",
       "    if (event.shiftKey && event.which != 16)\n",
       "        value += \"shift+\";\n",
       "\n",
       "    value += 'k';\n",
       "    value += event.which.toString();\n",
       "\n",
       "    this._key_event_extra(event, name);\n",
       "\n",
       "    this.send_message(name, {key: value,\n",
       "                             guiEvent: simpleKeys(event)});\n",
       "    return false;\n",
       "}\n",
       "\n",
       "mpl.figure.prototype.toolbar_button_onclick = function(name) {\n",
       "    if (name == 'download') {\n",
       "        this.handle_save(this, null);\n",
       "    } else {\n",
       "        this.send_message(\"toolbar_button\", {name: name});\n",
       "    }\n",
       "};\n",
       "\n",
       "mpl.figure.prototype.toolbar_button_onmouseover = function(tooltip) {\n",
       "    this.message.textContent = tooltip;\n",
       "};\n",
       "mpl.toolbar_items = [[\"Home\", \"Reset original view\", \"fa fa-home icon-home\", \"home\"], [\"Back\", \"Back to previous view\", \"fa fa-arrow-left icon-arrow-left\", \"back\"], [\"Forward\", \"Forward to next view\", \"fa fa-arrow-right icon-arrow-right\", \"forward\"], [\"\", \"\", \"\", \"\"], [\"Pan\", \"Pan axes with left mouse, zoom with right\", \"fa fa-arrows icon-move\", \"pan\"], [\"Zoom\", \"Zoom to rectangle\", \"fa fa-square-o icon-check-empty\", \"zoom\"], [\"\", \"\", \"\", \"\"], [\"Download\", \"Download plot\", \"fa fa-floppy-o icon-save\", \"download\"]];\n",
       "\n",
       "mpl.extensions = [\"eps\", \"jpeg\", \"pdf\", \"png\", \"ps\", \"raw\", \"svg\", \"tif\"];\n",
       "\n",
       "mpl.default_extension = \"png\";var comm_websocket_adapter = function(comm) {\n",
       "    // Create a \"websocket\"-like object which calls the given IPython comm\n",
       "    // object with the appropriate methods. Currently this is a non binary\n",
       "    // socket, so there is still some room for performance tuning.\n",
       "    var ws = {};\n",
       "\n",
       "    ws.close = function() {\n",
       "        comm.close()\n",
       "    };\n",
       "    ws.send = function(m) {\n",
       "        //console.log('sending', m);\n",
       "        comm.send(m);\n",
       "    };\n",
       "    // Register the callback with on_msg.\n",
       "    comm.on_msg(function(msg) {\n",
       "        //console.log('receiving', msg['content']['data'], msg);\n",
       "        // Pass the mpl event to the overridden (by mpl) onmessage function.\n",
       "        ws.onmessage(msg['content']['data'])\n",
       "    });\n",
       "    return ws;\n",
       "}\n",
       "\n",
       "mpl.mpl_figure_comm = function(comm, msg) {\n",
       "    // This is the function which gets called when the mpl process\n",
       "    // starts-up an IPython Comm through the \"matplotlib\" channel.\n",
       "\n",
       "    var id = msg.content.data.id;\n",
       "    // Get hold of the div created by the display call when the Comm\n",
       "    // socket was opened in Python.\n",
       "    var element = $(\"#\" + id);\n",
       "    var ws_proxy = comm_websocket_adapter(comm)\n",
       "\n",
       "    function ondownload(figure, format) {\n",
       "        window.open(figure.imageObj.src);\n",
       "    }\n",
       "\n",
       "    var fig = new mpl.figure(id, ws_proxy,\n",
       "                           ondownload,\n",
       "                           element.get(0));\n",
       "\n",
       "    // Call onopen now - mpl needs it, as it is assuming we've passed it a real\n",
       "    // web socket which is closed, not our websocket->open comm proxy.\n",
       "    ws_proxy.onopen();\n",
       "\n",
       "    fig.parent_element = element.get(0);\n",
       "    fig.cell_info = mpl.find_output_cell(\"<div id='\" + id + \"'></div>\");\n",
       "    if (!fig.cell_info) {\n",
       "        console.error(\"Failed to find cell for figure\", id, fig);\n",
       "        return;\n",
       "    }\n",
       "\n",
       "    var output_index = fig.cell_info[2]\n",
       "    var cell = fig.cell_info[0];\n",
       "\n",
       "};\n",
       "\n",
       "mpl.figure.prototype.handle_close = function(fig, msg) {\n",
       "    var width = fig.canvas.width/mpl.ratio\n",
       "    fig.root.unbind('remove')\n",
       "\n",
       "    // Update the output cell to use the data from the current canvas.\n",
       "    fig.push_to_output();\n",
       "    var dataURL = fig.canvas.toDataURL();\n",
       "    // Re-enable the keyboard manager in IPython - without this line, in FF,\n",
       "    // the notebook keyboard shortcuts fail.\n",
       "    IPython.keyboard_manager.enable()\n",
       "    $(fig.parent_element).html('<img src=\"' + dataURL + '\" width=\"' + width + '\">');\n",
       "    fig.close_ws(fig, msg);\n",
       "}\n",
       "\n",
       "mpl.figure.prototype.close_ws = function(fig, msg){\n",
       "    fig.send_message('closing', msg);\n",
       "    // fig.ws.close()\n",
       "}\n",
       "\n",
       "mpl.figure.prototype.push_to_output = function(remove_interactive) {\n",
       "    // Turn the data on the canvas into data in the output cell.\n",
       "    var width = this.canvas.width/mpl.ratio\n",
       "    var dataURL = this.canvas.toDataURL();\n",
       "    this.cell_info[1]['text/html'] = '<img src=\"' + dataURL + '\" width=\"' + width + '\">';\n",
       "}\n",
       "\n",
       "mpl.figure.prototype.updated_canvas_event = function() {\n",
       "    // Tell IPython that the notebook contents must change.\n",
       "    IPython.notebook.set_dirty(true);\n",
       "    this.send_message(\"ack\", {});\n",
       "    var fig = this;\n",
       "    // Wait a second, then push the new image to the DOM so\n",
       "    // that it is saved nicely (might be nice to debounce this).\n",
       "    setTimeout(function () { fig.push_to_output() }, 1000);\n",
       "}\n",
       "\n",
       "mpl.figure.prototype._init_toolbar = function() {\n",
       "    var fig = this;\n",
       "\n",
       "    var nav_element = $('<div/>');\n",
       "    nav_element.attr('style', 'width: 100%');\n",
       "    this.root.append(nav_element);\n",
       "\n",
       "    // Define a callback function for later on.\n",
       "    function toolbar_event(event) {\n",
       "        return fig.toolbar_button_onclick(event['data']);\n",
       "    }\n",
       "    function toolbar_mouse_event(event) {\n",
       "        return fig.toolbar_button_onmouseover(event['data']);\n",
       "    }\n",
       "\n",
       "    for(var toolbar_ind in mpl.toolbar_items){\n",
       "        var name = mpl.toolbar_items[toolbar_ind][0];\n",
       "        var tooltip = mpl.toolbar_items[toolbar_ind][1];\n",
       "        var image = mpl.toolbar_items[toolbar_ind][2];\n",
       "        var method_name = mpl.toolbar_items[toolbar_ind][3];\n",
       "\n",
       "        if (!name) { continue; };\n",
       "\n",
       "        var button = $('<button class=\"btn btn-default\" href=\"#\" title=\"' + name + '\"><i class=\"fa ' + image + ' fa-lg\"></i></button>');\n",
       "        button.click(method_name, toolbar_event);\n",
       "        button.mouseover(tooltip, toolbar_mouse_event);\n",
       "        nav_element.append(button);\n",
       "    }\n",
       "\n",
       "    // Add the status bar.\n",
       "    var status_bar = $('<span class=\"mpl-message\" style=\"text-align:right; float: right;\"/>');\n",
       "    nav_element.append(status_bar);\n",
       "    this.message = status_bar[0];\n",
       "\n",
       "    // Add the close button to the window.\n",
       "    var buttongrp = $('<div class=\"btn-group inline pull-right\"></div>');\n",
       "    var button = $('<button class=\"btn btn-mini btn-primary\" href=\"#\" title=\"Stop Interaction\"><i class=\"fa fa-power-off icon-remove icon-large\"></i></button>');\n",
       "    button.click(function (evt) { fig.handle_close(fig, {}); } );\n",
       "    button.mouseover('Stop Interaction', toolbar_mouse_event);\n",
       "    buttongrp.append(button);\n",
       "    var titlebar = this.root.find($('.ui-dialog-titlebar'));\n",
       "    titlebar.prepend(buttongrp);\n",
       "}\n",
       "\n",
       "mpl.figure.prototype._root_extra_style = function(el){\n",
       "    var fig = this\n",
       "    el.on(\"remove\", function(){\n",
       "\tfig.close_ws(fig, {});\n",
       "    });\n",
       "}\n",
       "\n",
       "mpl.figure.prototype._canvas_extra_style = function(el){\n",
       "    // this is important to make the div 'focusable\n",
       "    el.attr('tabindex', 0)\n",
       "    // reach out to IPython and tell the keyboard manager to turn it's self\n",
       "    // off when our div gets focus\n",
       "\n",
       "    // location in version 3\n",
       "    if (IPython.notebook.keyboard_manager) {\n",
       "        IPython.notebook.keyboard_manager.register_events(el);\n",
       "    }\n",
       "    else {\n",
       "        // location in version 2\n",
       "        IPython.keyboard_manager.register_events(el);\n",
       "    }\n",
       "\n",
       "}\n",
       "\n",
       "mpl.figure.prototype._key_event_extra = function(event, name) {\n",
       "    var manager = IPython.notebook.keyboard_manager;\n",
       "    if (!manager)\n",
       "        manager = IPython.keyboard_manager;\n",
       "\n",
       "    // Check for shift+enter\n",
       "    if (event.shiftKey && event.which == 13) {\n",
       "        this.canvas_div.blur();\n",
       "        // select the cell after this one\n",
       "        var index = IPython.notebook.find_cell_index(this.cell_info[0]);\n",
       "        IPython.notebook.select(index + 1);\n",
       "    }\n",
       "}\n",
       "\n",
       "mpl.figure.prototype.handle_save = function(fig, msg) {\n",
       "    fig.ondownload(fig, null);\n",
       "}\n",
       "\n",
       "\n",
       "mpl.find_output_cell = function(html_output) {\n",
       "    // Return the cell and output element which can be found *uniquely* in the notebook.\n",
       "    // Note - this is a bit hacky, but it is done because the \"notebook_saving.Notebook\"\n",
       "    // IPython event is triggered only after the cells have been serialised, which for\n",
       "    // our purposes (turning an active figure into a static one), is too late.\n",
       "    var cells = IPython.notebook.get_cells();\n",
       "    var ncells = cells.length;\n",
       "    for (var i=0; i<ncells; i++) {\n",
       "        var cell = cells[i];\n",
       "        if (cell.cell_type === 'code'){\n",
       "            for (var j=0; j<cell.output_area.outputs.length; j++) {\n",
       "                var data = cell.output_area.outputs[j];\n",
       "                if (data.data) {\n",
       "                    // IPython >= 3 moved mimebundle to data attribute of output\n",
       "                    data = data.data;\n",
       "                }\n",
       "                if (data['text/html'] == html_output) {\n",
       "                    return [cell, data, j];\n",
       "                }\n",
       "            }\n",
       "        }\n",
       "    }\n",
       "}\n",
       "\n",
       "// Register the function which deals with the matplotlib target/channel.\n",
       "// The kernel may be null if the page has been refreshed.\n",
       "if (IPython.notebook.kernel != null) {\n",
       "    IPython.notebook.kernel.comm_manager.register_target('matplotlib', mpl.mpl_figure_comm);\n",
       "}\n"
      ],
      "text/plain": [
       "<IPython.core.display.Javascript object>"
      ]
     },
     "metadata": {},
     "output_type": "display_data"
    },
    {
     "data": {
      "text/html": [
       "<img src=\"data:image/png;base64,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\" width=\"640\">"
      ],
      "text/plain": [
       "<IPython.core.display.HTML object>"
      ]
     },
     "metadata": {},
     "output_type": "display_data"
    }
   ],
   "source": [
    "# histogram them\n",
    "fig, ax = pyplot.subplots()\n",
    "ax.hist(posterior['x'], bins=10, histtype='step', label='x')\n",
    "ax.hist(posterior['y'], bins=10, histtype='step', label='y')\n",
    "ax.legend()\n",
    "fig.show()"
   ]
  },
  {
   "cell_type": "markdown",
   "metadata": {},
   "source": [
    "Let's check the mean and variance of our estimated posterior. These should be $\\bar{x} \\approx 2, \\sigma^2_{x} \\approx 1$ and $\\bar{y} \\approx 5, \\sigma^2_{y} \\approx 2$:"
   ]
  },
  {
   "cell_type": "code",
   "execution_count": 26,
   "metadata": {},
   "outputs": [
    {
     "name": "stdout",
     "output_type": "stream",
     "text": [
      "x mean: 1.7170804268742819 var: 0.9686085246130262\n",
      "y mean: 5.425645289039152 var: 2.733090059063231\n"
     ]
    }
   ],
   "source": [
    "for param in posterior:\n",
    "    s = posterior[param]\n",
    "    print(param, 'mean: {}'.format(s.mean()), 'var: {}'.format(s.var()))"
   ]
  },
  {
   "cell_type": "markdown",
   "metadata": {},
   "source": [
    "The values are close, but not exact. This isn't too surprising since we only have $\\mathcal{O}(100)$ samples. To get more samples, the sampler can be run longer."
   ]
  },
  {
   "cell_type": "markdown",
   "metadata": {},
   "source": [
    "## Create an animation of the results"
   ]
  },
  {
   "cell_type": "markdown",
   "metadata": {},
   "source": [
    "To visualize the results, we'll create an animation showing how the chains evolved. We'll do this by plotting one point for each chain, with each frame in the animation representing a single iteration."
   ]
  },
  {
   "cell_type": "markdown",
   "metadata": {},
   "source": [
    "***Note: To keep file size down, the animation has not been created for the version of this notebook uploaded to the repository.***"
   ]
  },
  {
   "cell_type": "code",
   "execution_count": null,
   "metadata": {},
   "outputs": [],
   "source": [
    "from matplotlib import animation"
   ]
  },
  {
   "cell_type": "code",
   "execution_count": null,
   "metadata": {},
   "outputs": [],
   "source": [
    "# Prepare an array to create a density map showing the shape of the model posterior\n",
    "npts = 100\n",
    "xmean, ymean = model.likelihood_dist.mean\n",
    "xsig = model.likelihood_dist.cov[0,0]**0.5\n",
    "ysig = model.likelihood_dist.cov[1,1]**0.5\n",
    "X, Y = numpy.mgrid[xmean-3*xsig:xmean+3*xsig:complex(0, npts),\n",
    "                   ymean-3*ysig:ymean+3*ysig:complex(0, npts)]\n",
    "Z = numpy.zeros(X.shape)\n",
    "for ii in range(Z.shape[0]):\n",
    "    for jj in range(Z.shape[1]):\n",
    "        logl, logp = model(x=X[ii,jj], y=Y[ii,jj])\n",
    "        Z[ii, jj] = numpy.exp(logl+logp)"
   ]
  },
  {
   "cell_type": "code",
   "execution_count": null,
   "metadata": {},
   "outputs": [],
   "source": [
    "# we'll just animate the first 200 iterations; change this to\n",
    "# nframes = xdata.shape[1]\n",
    "# if you want to see all iterations\n",
    "nframes = 200"
   ]
  },
  {
   "cell_type": "code",
   "execution_count": null,
   "metadata": {},
   "outputs": [],
   "source": [
    "fig, ax = pyplot.subplots()\n",
    "\n",
    "positions = sampler.positions\n",
    "xdata = positions['x']\n",
    "ydata = positions['y']\n",
    "\n",
    "# Plot density map showing the shape of the true posterior density\n",
    "ax.imshow(numpy.rot90(Z), extent=[X.min(), X.max(), Y.min(), Y.max()],\n",
    "          aspect='auto', cmap='binary', zorder=-3)\n",
    "\n",
    "# Put an x at the maximum posterior point\n",
    "ax.scatter(model.mean[0], model.mean[1], marker='x', color='w', s=10, zorder=-2)\n",
    "ax.set_xlabel('x')\n",
    "ax.set_ylabel('y')\n",
    "# create the scatter points\n",
    "ptsize = 60\n",
    "\n",
    "# we'll include the last bufferlen number of steps a chain visited, having the size and transparency\n",
    "# exponentially damped with each new frame\n",
    "bufferlen = 16\n",
    "alphas = numpy.exp(-4*(numpy.arange(bufferlen))/float(bufferlen))\n",
    "sizes = ptsize * alphas\n",
    "#colors = numpy.array(['C{}'.format(ii) for ii in range(nchains)])\n",
    "colors = numpy.arange(nchains)\n",
    "plts = [ax.scatter(xdata[:, bufferlen-ii-1], ydata[:, bufferlen-ii-1], c=colors, s=sizes[ii],\n",
    "                   edgecolors='w', linewidths=0.5,\n",
    "                   alpha=alphas[ii], zorder=bufferlen-ii, marker='s' if ii==0 else 'o', cmap='jet')\n",
    "        for ii in range(bufferlen)]\n",
    "# put a + showing the average of the chain positions at the current iteration\n",
    "meanplt = ax.scatter(xdata[:,0].mean(), ydata[:,0].mean(), marker='P', c='w', edgecolors='k', linewidths=0.5,\n",
    "                     zorder=bufferlen+1)\n",
    "\n",
    "# add some text giving the iteration\n",
    "itertxt = 'Iteration {}'\n",
    "txt = ax.annotate(itertxt.format(1), (0.03, 0.94), xycoords='axes fraction')\n",
    "\n",
    "def animate(ii):\n",
    "    txt.set_text(itertxt.format(ii+1))\n",
    "    for jj,plt in enumerate(plts):\n",
    "        plt.set_offsets(numpy.array([xdata[:, max(ii-jj, 0)], ydata[:, max(ii-jj, 0)]]).T)\n",
    "    meanplt.set_offsets([xdata[:,ii].mean(), ydata[:,ii].mean()])\n",
    "    # zoom in as it narrows on the result\n",
    "    istart = max(ii-bufferlen, 0)\n",
    "    # smooth it out a bit\n",
    "    xmin = numpy.array([xdata[:, max(istart-kk, 0):].min() for kk in range(50)]).mean()\n",
    "    xmax = numpy.array([xdata[:, max(istart-kk, 0):].max() for kk in range(50)]).mean()\n",
    "    ymin = numpy.array([ydata[:, max(istart-kk, 0):].min() for kk in range(50)]).mean()\n",
    "    ymax = numpy.array([ydata[:, max(istart-kk, 0):].max() for kk in range(50)]).mean()\n",
    "    ax.set_xlim((1.1 if xmin < 1 else 0.9)*xmin, (0.9 if xmax < 1 else 1.1)*xmax)\n",
    "    ax.set_ylim((1.1 if ymin < 1 else 0.9)*ymin, (0.9 if ymax < 1 else 1.1)*ymax)\n",
    "\n",
    "\n",
    "ani = animation.FuncAnimation(fig, animate, frames=nframes, interval=160, blit=True)"
   ]
  },
  {
   "cell_type": "markdown",
   "metadata": {},
   "source": [
    "Save the animation:"
   ]
  },
  {
   "cell_type": "code",
   "execution_count": null,
   "metadata": {},
   "outputs": [],
   "source": [
    "ani.save('chain_animation.mp4')"
   ]
  },
  {
   "cell_type": "markdown",
   "metadata": {},
   "source": [
    "The result:"
   ]
  },
  {
   "cell_type": "code",
   "execution_count": null,
   "metadata": {},
   "outputs": [],
   "source": [
    "%%HTML\n",
    "<video width=\"640\" height=\"480\" controls>\n",
    "  <source src=\"chain_animation.mp4\" type=\"video/mp4\">\n",
    "</video>"
   ]
  },
  {
   "cell_type": "code",
   "execution_count": null,
   "metadata": {},
   "outputs": [],
   "source": []
  }
 ],
 "metadata": {
  "kernelspec": {
   "display_name": "Python 3",
   "language": "python",
   "name": "python3"
  },
  "language_info": {
   "codemirror_mode": {
    "name": "ipython",
    "version": 3
   },
   "file_extension": ".py",
   "mimetype": "text/x-python",
   "name": "python",
   "nbconvert_exporter": "python",
   "pygments_lexer": "ipython3",
   "version": "3.6.9"
  }
 },
 "nbformat": 4,
 "nbformat_minor": 2
}
