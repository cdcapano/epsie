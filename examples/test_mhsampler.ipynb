{
 "cells": [
  {
   "cell_type": "markdown",
   "metadata": {},
   "source": [
    "# Example of creating and running a Metropolis-Hastings Sampler"
   ]
  },
  {
   "cell_type": "markdown",
   "metadata": {},
   "source": [
    "In this notebook we will setup a sampler to sample a 2D Gaussian distribution with mean $\\bar{x} = 2, \\bar{y} = 5$ and variance $\\sigma_x^2 = 1$, $\\sigma_y^2 = 2$; $\\sigma^2_{xy} = \\sigma^2_{yx} = 0$, using a prior that is uniform over $x \\in [-20, 20)$, $y\\in[-40, 40)$.\n",
    "\n",
    "We will use Python's multiprocessing to evolve 12 chains using 4 cores. We will demonstrate that resuming a sampler from it's state attribute yields the same results as if we had run continuously. We then make a plot of the posterior. Finally, we make an animation showing how the 12 chains moved."
   ]
  },
  {
   "cell_type": "code",
   "execution_count": 1,
   "metadata": {},
   "outputs": [],
   "source": [
    "from __future__ import print_function\n",
    "\n",
    "%matplotlib notebook\n",
    "from matplotlib import pyplot\n",
    "import numpy\n",
    "import randomgen\n",
    "\n",
    "import epsie\n",
    "from epsie.samplers import MetropolisHastingsSampler\n",
    "import multiprocessing"
   ]
  },
  {
   "cell_type": "markdown",
   "metadata": {},
   "source": [
    "## Create the model to sample"
   ]
  },
  {
   "cell_type": "markdown",
   "metadata": {},
   "source": [
    "***Note:*** Below we create a class with several functions to draw samples from the prior and to evaluate the log posterior. This isn't strictly necessary. The only thing the Sampler really requires is a function that it can pass keyword arguments to and get back a tuple of (log likelihood, log prior). However, setting things up as a class will make it convenient to, e.g., draw random samples from the prior for the starting positiions, as well as plot the model later on."
   ]
  },
  {
   "cell_type": "code",
   "execution_count": 2,
   "metadata": {},
   "outputs": [],
   "source": [
    "from scipy import stats\n",
    "class Model(object):\n",
    "    def __init__(self):\n",
    "        # we'll use a 2D Gaussian for the likelihood distribution\n",
    "        self.params = ['x', 'y']\n",
    "        self.mean = [2., 5.]\n",
    "        self.cov = [[1., 0.], [0., 2.]]\n",
    "        self.likelihood_dist = stats.multivariate_normal(mean=self.mean,\n",
    "                                                         cov=self.cov)\n",
    "\n",
    "        # we'll just use a uniform prior\n",
    "        self.prior_bounds = {'x': (-20., 20.),\n",
    "                             'y': (-40., 40.)}\n",
    "        xmin = self.prior_bounds['x'][0]\n",
    "        dx = self.prior_bounds['x'][1] - xmin\n",
    "        ymin = self.prior_bounds['y'][0]\n",
    "        dy = self.prior_bounds['y'][1] - ymin\n",
    "        self.prior_dist = {'x': stats.uniform(xmin, dx),\n",
    "                           'y': stats.uniform(ymin, dy)}\n",
    "\n",
    "    def prior_rvs(self, size=None):\n",
    "        return {p: self.prior_dist[p].rvs(size=size)\n",
    "                for p in self.params}\n",
    "    \n",
    "    def logprior(self, **kwargs):\n",
    "        return sum([self.prior_dist[p].logpdf(kwargs[p]) for p in self.params])\n",
    "    \n",
    "    def loglikelihood(self, **kwargs):\n",
    "        return self.likelihood_dist.logpdf([kwargs[p] for p in self.params])\n",
    "    \n",
    "    def __call__(self, **kwargs):\n",
    "        logp = self.logprior(**kwargs)\n",
    "        if logp == -numpy.inf:\n",
    "            logl = None\n",
    "        else:\n",
    "            logl = self.loglikelihood(**kwargs)\n",
    "        return logl, logp"
   ]
  },
  {
   "cell_type": "code",
   "execution_count": 3,
   "metadata": {},
   "outputs": [],
   "source": [
    "model = Model()"
   ]
  },
  {
   "cell_type": "markdown",
   "metadata": {},
   "source": [
    "## Setup and run the sampler"
   ]
  },
  {
   "cell_type": "markdown",
   "metadata": {},
   "source": [
    "Create a pool of 4 parallel processes, then initialize the sampler using the model we created above."
   ]
  },
  {
   "cell_type": "code",
   "execution_count": 4,
   "metadata": {},
   "outputs": [],
   "source": [
    "nchains = 12\n",
    "nprocs = 4\n",
    "pool = multiprocessing.Pool(nprocs)\n",
    "\n",
    "sampler = MetropolisHastingsSampler(model.params, model, nchains, pool=pool)"
   ]
  },
  {
   "cell_type": "markdown",
   "metadata": {},
   "source": [
    "Now set the starting positions of the chains by drawing random variates from the model's prior."
   ]
  },
  {
   "cell_type": "code",
   "execution_count": 5,
   "metadata": {},
   "outputs": [],
   "source": [
    "sampler.start_position = model.prior_rvs(size=nchains)"
   ]
  },
  {
   "cell_type": "markdown",
   "metadata": {},
   "source": [
    "### Let's run it!"
   ]
  },
  {
   "cell_type": "markdown",
   "metadata": {},
   "source": [
    "This will evolve each chain in the collection by 256 steps. This is parallelized over the pool of processes."
   ]
  },
  {
   "cell_type": "code",
   "execution_count": 6,
   "metadata": {},
   "outputs": [],
   "source": [
    "sampler.run(256)"
   ]
  },
  {
   "cell_type": "markdown",
   "metadata": {},
   "source": [
    "## Extract results"
   ]
  },
  {
   "cell_type": "markdown",
   "metadata": {},
   "source": [
    "We can get the history of all of the chains using the `.positions` attribute. This will return a numpy structured array in which the fields are the parameters names (in this case, `'x'` and `'y'`), and with shape `nchains x niterations`:"
   ]
  },
  {
   "cell_type": "code",
   "execution_count": 7,
   "metadata": {},
   "outputs": [
    {
     "name": "stdout",
     "output_type": "stream",
     "text": [
      "sampler.positions: <class 'numpy.ndarray'>\n",
      "with fields: ('x', 'y')\n",
      "and shape: (12, 256)\n"
     ]
    }
   ],
   "source": [
    "positions = sampler.positions\n",
    "print('sampler.positions: {}'.format(type(positions)))\n",
    "print('with fields: {}'.format(positions.dtype.names))\n",
    "print('and shape:', positions.shape)"
   ]
  },
  {
   "cell_type": "markdown",
   "metadata": {},
   "source": [
    "This (or any structured array returned by epsie) can be turned into a dictionary of arrays, where the keys are the parameter names, using `epsie.array2dict`:"
   ]
  },
  {
   "cell_type": "code",
   "execution_count": 8,
   "metadata": {},
   "outputs": [
    {
     "name": "stdout",
     "output_type": "stream",
     "text": [
      "sampler.positions: <class 'dict'> with keys/values:\n",
      "\"x\": <class 'numpy.ndarray'> with shape (12, 256)\n",
      "\"y\": <class 'numpy.ndarray'> with shape (12, 256)\n"
     ]
    }
   ],
   "source": [
    "positions = epsie.array2dict(sampler.positions)\n",
    "print('sampler.positions: {} with keys/values:'.format(type(positions)))\n",
    "for param in sorted(positions):\n",
    "    print('\"{}\": {} with shape {}'.format(param, type(positions[param]), positions[param].shape))"
   ]
  },
  {
   "cell_type": "markdown",
   "metadata": {},
   "source": [
    "We can also access the history of log likelihoods and log priors using `sampler.stats`, as well as the acceptance ratios and which jumps were accepted with `sampler.acceptance`:"
   ]
  },
  {
   "cell_type": "code",
   "execution_count": 9,
   "metadata": {},
   "outputs": [
    {
     "name": "stdout",
     "output_type": "stream",
     "text": [
      "sampler.stats: <class 'numpy.ndarray'>\n",
      "with fields: ('logl', 'logp')\n",
      "and shape: (12, 256)\n"
     ]
    }
   ],
   "source": [
    "stats = sampler.stats\n",
    "print('sampler.stats: {}'.format(type(stats)))\n",
    "print('with fields: {}'.format(stats.dtype.names))\n",
    "print('and shape:', stats.shape)"
   ]
  },
  {
   "cell_type": "code",
   "execution_count": 10,
   "metadata": {},
   "outputs": [
    {
     "name": "stdout",
     "output_type": "stream",
     "text": [
      "sampler.acceptance: <class 'numpy.ndarray'>\n",
      "with fields: ('acceptance_ratio', 'accepted')\n",
      "and shape: (12, 256)\n"
     ]
    }
   ],
   "source": [
    "acceptance = sampler.acceptance\n",
    "print('sampler.acceptance: {}'.format(type(acceptance)))\n",
    "print('with fields: {}'.format(acceptance.dtype.names))\n",
    "print('and shape:', acceptance.shape)"
   ]
  },
  {
   "cell_type": "markdown",
   "metadata": {},
   "source": [
    "If the model returned \"blobs\" (i.e., the model returns a dictionary along with the logl and logp), then we can also access those using `sampler.blobs`. Similar to `positions`, this would also be a dictionary of arrays with keys given by the names in the dictionary the model returned. However, because our model above returns no blobs, in this case we just get `None`:"
   ]
  },
  {
   "cell_type": "code",
   "execution_count": 11,
   "metadata": {},
   "outputs": [
    {
     "name": "stdout",
     "output_type": "stream",
     "text": [
      "None\n"
     ]
    }
   ],
   "source": [
    "print(sampler.blobs)"
   ]
  },
  {
   "cell_type": "markdown",
   "metadata": {},
   "source": [
    "The individual chains can be accessed using the `.chains` attribute:"
   ]
  },
  {
   "cell_type": "code",
   "execution_count": 12,
   "metadata": {},
   "outputs": [
    {
     "data": {
      "text/plain": [
       "[<epsie.chain.chain.Chain at 0x11e27a940>,\n",
       " <epsie.chain.chain.Chain at 0x11e2769e8>,\n",
       " <epsie.chain.chain.Chain at 0x11e276908>,\n",
       " <epsie.chain.chain.Chain at 0x11e276198>,\n",
       " <epsie.chain.chain.Chain at 0x11e27a9e8>,\n",
       " <epsie.chain.chain.Chain at 0x11e287e80>,\n",
       " <epsie.chain.chain.Chain at 0x11e287eb8>,\n",
       " <epsie.chain.chain.Chain at 0x11e27aba8>,\n",
       " <epsie.chain.chain.Chain at 0x11e290cf8>,\n",
       " <epsie.chain.chain.Chain at 0x11e290ac8>,\n",
       " <epsie.chain.chain.Chain at 0x11e295a20>,\n",
       " <epsie.chain.chain.Chain at 0x11e295ac8>]"
      ]
     },
     "execution_count": 12,
     "metadata": {},
     "output_type": "execute_result"
    }
   ],
   "source": [
    "sampler.chains"
   ]
  },
  {
   "cell_type": "markdown",
   "metadata": {},
   "source": [
    "## Resume from a state"
   ]
  },
  {
   "cell_type": "markdown",
   "metadata": {},
   "source": [
    "The sampler can be checkpointed by getting its current state with `sampler.state`. To demonstrate this, we'll get the current state of the sampler, then run it for another set of iterations. We'll then create a new sampler, and set it's state to the state we obtained from first sampler. Running the same sampler for the same number of iterations should produce the same results."
   ]
  },
  {
   "cell_type": "code",
   "execution_count": 13,
   "metadata": {},
   "outputs": [],
   "source": [
    "# get the current state\n",
    "state = sampler.state"
   ]
  },
  {
   "cell_type": "code",
   "execution_count": 14,
   "metadata": {},
   "outputs": [],
   "source": [
    "# now advance the sampler for another 256 iterations\n",
    "sampler.run(256)"
   ]
  },
  {
   "cell_type": "code",
   "execution_count": 15,
   "metadata": {},
   "outputs": [],
   "source": [
    "# create a new sampler, but set it's state to what the original sampler's was after the first 250 iterations\n",
    "sampler2 = MetropolisHastingsSampler(model.params, model, nchains, pool=pool)\n",
    "sampler2.set_state(state)"
   ]
  },
  {
   "cell_type": "code",
   "execution_count": 16,
   "metadata": {},
   "outputs": [],
   "source": [
    "# now advance the new sampler for 256 iterations\n",
    "# note that we don't have to run set_start first, since the starting positions have been set by set_start\n",
    "sampler2.run(256)"
   ]
  },
  {
   "cell_type": "code",
   "execution_count": 17,
   "metadata": {},
   "outputs": [
    {
     "name": "stdout",
     "output_type": "stream",
     "text": [
      "x: True\n",
      "y: True\n",
      "logl: True\n",
      "logp: True\n",
      "acceptance ratio: True\n",
      "accepted: True\n"
     ]
    }
   ],
   "source": [
    "# compare the current results; they should be the same between sampler2 and sampler\n",
    "print('x:', (sampler.current_positions['x'] == sampler2.current_positions['x']).all())\n",
    "print('y:', (sampler.current_positions['y'] == sampler2.current_positions['y']).all())\n",
    "print('logl:', (sampler.current_stats['logl'] == sampler2.current_stats['logl']).all())\n",
    "print('logp:', (sampler.current_stats['logp'] == sampler2.current_stats['logp']).all())\n",
    "print('acceptance ratio:',\n",
    "      (sampler.acceptance['acceptance_ratio'][:,-1] == sampler2.acceptance['acceptance_ratio'][:,-1]).all())\n",
    "print('accepted:',\n",
    "      (sampler.acceptance['accepted'][:,-1] == sampler2.acceptance['accepted'][:,-1]).all())"
   ]
  },
  {
   "cell_type": "markdown",
   "metadata": {},
   "source": [
    "## Clearing memory and continuing"
   ]
  },
  {
   "cell_type": "markdown",
   "metadata": {},
   "source": [
    "The history of results in memory can be cleared using `.clear()`. Running the sampler after a clear yields the same results as if no clear had been done. This is useful for keeping memory usage down: you can dump results to a file after some number of iterations, clear, then continue.\n",
    "\n",
    "To demonstrate this, we'll clear `sampler2`, then run both `sampler` and `sampler2` for another 512 iterations. We'll then compare the current results; they should be the same."
   ]
  },
  {
   "cell_type": "code",
   "execution_count": 18,
   "metadata": {},
   "outputs": [],
   "source": [
    "sampler2.clear()"
   ]
  },
  {
   "cell_type": "code",
   "execution_count": 19,
   "metadata": {},
   "outputs": [],
   "source": [
    "sampler.run(512)\n",
    "sampler2.run(512)"
   ]
  },
  {
   "cell_type": "code",
   "execution_count": 20,
   "metadata": {},
   "outputs": [
    {
     "name": "stdout",
     "output_type": "stream",
     "text": [
      "x: True\n",
      "y: True\n",
      "logl: True\n",
      "logp: True\n",
      "acceptance ratio: True\n",
      "accepted: True\n"
     ]
    }
   ],
   "source": [
    "# compare the current results; they should be the same between sampler2 and sampler\n",
    "print('x:', (sampler.current_positions['x'] == sampler2.current_positions['x']).all())\n",
    "print('y:', (sampler.current_positions['y'] == sampler2.current_positions['y']).all())\n",
    "print('logl:', (sampler.current_stats['logl'] == sampler2.current_stats['logl']).all())\n",
    "print('logp:', (sampler.current_stats['logp'] == sampler2.current_stats['logp']).all())\n",
    "print('acceptance ratio:',\n",
    "      (sampler.acceptance['acceptance_ratio'][:,-1] == sampler2.acceptance['acceptance_ratio'][:,-1]).all())\n",
    "print('accepted:',\n",
    "      (sampler.acceptance['accepted'][:,-1] == sampler2.acceptance['accepted'][:,-1]).all())"
   ]
  },
  {
   "cell_type": "markdown",
   "metadata": {},
   "source": [
    "## Plot the posterior\n",
    "Let's create a scatter plot of the posterior. For this, we'll need to throw out some earlier samples for the burn-in period; we'll just assume the first-half of the chains were burn in. We also need to calculate the autocorrelation length of the chains in order to get independent samples."
   ]
  },
  {
   "cell_type": "code",
   "execution_count": 21,
   "metadata": {},
   "outputs": [],
   "source": [
    "def calculate_acf(data):\n",
    "    \"\"\"Calculates the autocorrelation of some data\"\"\"\n",
    "    # zero the mean\n",
    "    data = data - data.mean()\n",
    "    # zero-pad to 2 * nearest power of 2\n",
    "    newlen = int(2**(1+numpy.ceil(numpy.log2(len(data)))))\n",
    "    x = numpy.zeros(newlen)\n",
    "    x[:len(data)] = data[:]\n",
    "    # correlate\n",
    "    acf = numpy.correlate(x, x, mode='full')\n",
    "    # drop corrupted region\n",
    "    acf = acf[len(acf)//2:]\n",
    "    # normalize\n",
    "    acf /= acf[0]\n",
    "    return acf\n",
    "\n",
    "def calculate_acl(data):\n",
    "    \"\"\"Calculates the autocorrelation length of some data.\n",
    "    \n",
    "    Algorithm used is from:\n",
    "    N. Madras and A.D. Sokal, J. Stat. Phys. 50, 109 (1988).\n",
    "    \"\"\"\n",
    "    # calculate the acf\n",
    "    acf = calculate_acf(data)\n",
    "    # now the ACL: Following from Sokal, this is estimated\n",
    "    # as the first point where M*tau[k] <= k, where\n",
    "    # tau = 2*cumsum(acf) - 1, and M is a tuneable parameter,\n",
    "    # generally chosen to be = 5 (which we use here)\n",
    "    m = 5\n",
    "    cacf = 2.*numpy.cumsum(acf) - 1.\n",
    "    win = m * cacf <= numpy.arange(len(cacf))\n",
    "    if win.any():\n",
    "        acl = int(numpy.ceil(cacf[numpy.where(win)[0][0]]))\n",
    "    else:\n",
    "        # data is too short to estimate the ACL, just choose\n",
    "        # the length of the data\n",
    "        acl = len(data)\n",
    "    return acl"
   ]
  },
  {
   "cell_type": "markdown",
   "metadata": {},
   "source": [
    "Since the chains are completely independent of each other, we can calculate the ACL separately for each chain. However, if you'd like to be more conservative, you can also just take the max over all of the chains."
   ]
  },
  {
   "cell_type": "code",
   "execution_count": 22,
   "metadata": {},
   "outputs": [],
   "source": [
    "# get the samples; recall that this is a dictionary of \n",
    "# nchains x niterations arrays for each parameter\n",
    "samples = sampler.positions\n",
    "# as we said above, we'll assume the first half\n",
    "# of the chain was burn in\n",
    "burnin_iter = sampler.niterations // 2\n",
    "# set up arrays to store the ACL of each chain and\n",
    "# the thinned chains\n",
    "acls = numpy.zeros(nchains, dtype=int)\n",
    "thinned_arrays = {'x': [], 'y': []}\n",
    "# cycle over the chains, calculating the ACLs and thinning them\n",
    "for ii in range(nchains):\n",
    "    # get the second half of the chains\n",
    "    sx = samples['x'][ii, burnin_iter:]\n",
    "    sy = samples['y'][ii, burnin_iter:]\n",
    "    # compute the acl for each parameter\n",
    "    aclx = calculate_acl(sx)\n",
    "    acly = calculate_acl(sy)\n",
    "    acl = max(aclx, acly)\n",
    "    acls[ii] = acl\n",
    "    # note that we'll thin the arrays starting from the\n",
    "    # end to get the lastest results\n",
    "    thinned_arrays['x'].append(sx[::-1][:acl:][::-1])\n",
    "    thinned_arrays['y'].append(sy[::-1][:acl:][::-1])    "
   ]
  },
  {
   "cell_type": "code",
   "execution_count": 23,
   "metadata": {},
   "outputs": [
    {
     "name": "stdout",
     "output_type": "stream",
     "text": [
      "[ 9  7 13 17 25 12 13 14 11 27  7 11]\n"
     ]
    }
   ],
   "source": [
    "# the ACL of each chain:\n",
    "print(acls)"
   ]
  },
  {
   "cell_type": "code",
   "execution_count": 24,
   "metadata": {},
   "outputs": [
    {
     "name": "stdout",
     "output_type": "stream",
     "text": [
      "Number of independent samples: 166\n"
     ]
    }
   ],
   "source": [
    "# create a flattened posterior array\n",
    "posterior = {'x': numpy.concatenate(thinned_arrays['x']),\n",
    "             'y': numpy.concatenate(thinned_arrays['y'])}\n",
    "print(\"Number of independent samples:\", posterior['x'].size)"
   ]
  },
  {
   "cell_type": "code",
   "execution_count": 25,
   "metadata": {},
   "outputs": [
    {
     "data": {
      "application/javascript": [
       "/* Put everything inside the global mpl namespace */\n",
       "window.mpl = {};\n",
       "\n",
       "\n",
       "mpl.get_websocket_type = function() {\n",
       "    if (typeof(WebSocket) !== 'undefined') {\n",
       "        return WebSocket;\n",
       "    } else if (typeof(MozWebSocket) !== 'undefined') {\n",
       "        return MozWebSocket;\n",
       "    } else {\n",
       "        alert('Your browser does not have WebSocket support. ' +\n",
       "              'Please try Chrome, Safari or Firefox ≥ 6. ' +\n",
       "              'Firefox 4 and 5 are also supported but you ' +\n",
       "              'have to enable WebSockets in about:config.');\n",
       "    };\n",
       "}\n",
       "\n",
       "mpl.figure = function(figure_id, websocket, ondownload, parent_element) {\n",
       "    this.id = figure_id;\n",
       "\n",
       "    this.ws = websocket;\n",
       "\n",
       "    this.supports_binary = (this.ws.binaryType != undefined);\n",
       "\n",
       "    if (!this.supports_binary) {\n",
       "        var warnings = document.getElementById(\"mpl-warnings\");\n",
       "        if (warnings) {\n",
       "            warnings.style.display = 'block';\n",
       "            warnings.textContent = (\n",
       "                \"This browser does not support binary websocket messages. \" +\n",
       "                    \"Performance may be slow.\");\n",
       "        }\n",
       "    }\n",
       "\n",
       "    this.imageObj = new Image();\n",
       "\n",
       "    this.context = undefined;\n",
       "    this.message = undefined;\n",
       "    this.canvas = undefined;\n",
       "    this.rubberband_canvas = undefined;\n",
       "    this.rubberband_context = undefined;\n",
       "    this.format_dropdown = undefined;\n",
       "\n",
       "    this.image_mode = 'full';\n",
       "\n",
       "    this.root = $('<div/>');\n",
       "    this._root_extra_style(this.root)\n",
       "    this.root.attr('style', 'display: inline-block');\n",
       "\n",
       "    $(parent_element).append(this.root);\n",
       "\n",
       "    this._init_header(this);\n",
       "    this._init_canvas(this);\n",
       "    this._init_toolbar(this);\n",
       "\n",
       "    var fig = this;\n",
       "\n",
       "    this.waiting = false;\n",
       "\n",
       "    this.ws.onopen =  function () {\n",
       "            fig.send_message(\"supports_binary\", {value: fig.supports_binary});\n",
       "            fig.send_message(\"send_image_mode\", {});\n",
       "            if (mpl.ratio != 1) {\n",
       "                fig.send_message(\"set_dpi_ratio\", {'dpi_ratio': mpl.ratio});\n",
       "            }\n",
       "            fig.send_message(\"refresh\", {});\n",
       "        }\n",
       "\n",
       "    this.imageObj.onload = function() {\n",
       "            if (fig.image_mode == 'full') {\n",
       "                // Full images could contain transparency (where diff images\n",
       "                // almost always do), so we need to clear the canvas so that\n",
       "                // there is no ghosting.\n",
       "                fig.context.clearRect(0, 0, fig.canvas.width, fig.canvas.height);\n",
       "            }\n",
       "            fig.context.drawImage(fig.imageObj, 0, 0);\n",
       "        };\n",
       "\n",
       "    this.imageObj.onunload = function() {\n",
       "        fig.ws.close();\n",
       "    }\n",
       "\n",
       "    this.ws.onmessage = this._make_on_message_function(this);\n",
       "\n",
       "    this.ondownload = ondownload;\n",
       "}\n",
       "\n",
       "mpl.figure.prototype._init_header = function() {\n",
       "    var titlebar = $(\n",
       "        '<div class=\"ui-dialog-titlebar ui-widget-header ui-corner-all ' +\n",
       "        'ui-helper-clearfix\"/>');\n",
       "    var titletext = $(\n",
       "        '<div class=\"ui-dialog-title\" style=\"width: 100%; ' +\n",
       "        'text-align: center; padding: 3px;\"/>');\n",
       "    titlebar.append(titletext)\n",
       "    this.root.append(titlebar);\n",
       "    this.header = titletext[0];\n",
       "}\n",
       "\n",
       "\n",
       "\n",
       "mpl.figure.prototype._canvas_extra_style = function(canvas_div) {\n",
       "\n",
       "}\n",
       "\n",
       "\n",
       "mpl.figure.prototype._root_extra_style = function(canvas_div) {\n",
       "\n",
       "}\n",
       "\n",
       "mpl.figure.prototype._init_canvas = function() {\n",
       "    var fig = this;\n",
       "\n",
       "    var canvas_div = $('<div/>');\n",
       "\n",
       "    canvas_div.attr('style', 'position: relative; clear: both; outline: 0');\n",
       "\n",
       "    function canvas_keyboard_event(event) {\n",
       "        return fig.key_event(event, event['data']);\n",
       "    }\n",
       "\n",
       "    canvas_div.keydown('key_press', canvas_keyboard_event);\n",
       "    canvas_div.keyup('key_release', canvas_keyboard_event);\n",
       "    this.canvas_div = canvas_div\n",
       "    this._canvas_extra_style(canvas_div)\n",
       "    this.root.append(canvas_div);\n",
       "\n",
       "    var canvas = $('<canvas/>');\n",
       "    canvas.addClass('mpl-canvas');\n",
       "    canvas.attr('style', \"left: 0; top: 0; z-index: 0; outline: 0\")\n",
       "\n",
       "    this.canvas = canvas[0];\n",
       "    this.context = canvas[0].getContext(\"2d\");\n",
       "\n",
       "    var backingStore = this.context.backingStorePixelRatio ||\n",
       "\tthis.context.webkitBackingStorePixelRatio ||\n",
       "\tthis.context.mozBackingStorePixelRatio ||\n",
       "\tthis.context.msBackingStorePixelRatio ||\n",
       "\tthis.context.oBackingStorePixelRatio ||\n",
       "\tthis.context.backingStorePixelRatio || 1;\n",
       "\n",
       "    mpl.ratio = (window.devicePixelRatio || 1) / backingStore;\n",
       "\n",
       "    var rubberband = $('<canvas/>');\n",
       "    rubberband.attr('style', \"position: absolute; left: 0; top: 0; z-index: 1;\")\n",
       "\n",
       "    var pass_mouse_events = true;\n",
       "\n",
       "    canvas_div.resizable({\n",
       "        start: function(event, ui) {\n",
       "            pass_mouse_events = false;\n",
       "        },\n",
       "        resize: function(event, ui) {\n",
       "            fig.request_resize(ui.size.width, ui.size.height);\n",
       "        },\n",
       "        stop: function(event, ui) {\n",
       "            pass_mouse_events = true;\n",
       "            fig.request_resize(ui.size.width, ui.size.height);\n",
       "        },\n",
       "    });\n",
       "\n",
       "    function mouse_event_fn(event) {\n",
       "        if (pass_mouse_events)\n",
       "            return fig.mouse_event(event, event['data']);\n",
       "    }\n",
       "\n",
       "    rubberband.mousedown('button_press', mouse_event_fn);\n",
       "    rubberband.mouseup('button_release', mouse_event_fn);\n",
       "    // Throttle sequential mouse events to 1 every 20ms.\n",
       "    rubberband.mousemove('motion_notify', mouse_event_fn);\n",
       "\n",
       "    rubberband.mouseenter('figure_enter', mouse_event_fn);\n",
       "    rubberband.mouseleave('figure_leave', mouse_event_fn);\n",
       "\n",
       "    canvas_div.on(\"wheel\", function (event) {\n",
       "        event = event.originalEvent;\n",
       "        event['data'] = 'scroll'\n",
       "        if (event.deltaY < 0) {\n",
       "            event.step = 1;\n",
       "        } else {\n",
       "            event.step = -1;\n",
       "        }\n",
       "        mouse_event_fn(event);\n",
       "    });\n",
       "\n",
       "    canvas_div.append(canvas);\n",
       "    canvas_div.append(rubberband);\n",
       "\n",
       "    this.rubberband = rubberband;\n",
       "    this.rubberband_canvas = rubberband[0];\n",
       "    this.rubberband_context = rubberband[0].getContext(\"2d\");\n",
       "    this.rubberband_context.strokeStyle = \"#000000\";\n",
       "\n",
       "    this._resize_canvas = function(width, height) {\n",
       "        // Keep the size of the canvas, canvas container, and rubber band\n",
       "        // canvas in synch.\n",
       "        canvas_div.css('width', width)\n",
       "        canvas_div.css('height', height)\n",
       "\n",
       "        canvas.attr('width', width * mpl.ratio);\n",
       "        canvas.attr('height', height * mpl.ratio);\n",
       "        canvas.attr('style', 'width: ' + width + 'px; height: ' + height + 'px;');\n",
       "\n",
       "        rubberband.attr('width', width);\n",
       "        rubberband.attr('height', height);\n",
       "    }\n",
       "\n",
       "    // Set the figure to an initial 600x600px, this will subsequently be updated\n",
       "    // upon first draw.\n",
       "    this._resize_canvas(600, 600);\n",
       "\n",
       "    // Disable right mouse context menu.\n",
       "    $(this.rubberband_canvas).bind(\"contextmenu\",function(e){\n",
       "        return false;\n",
       "    });\n",
       "\n",
       "    function set_focus () {\n",
       "        canvas.focus();\n",
       "        canvas_div.focus();\n",
       "    }\n",
       "\n",
       "    window.setTimeout(set_focus, 100);\n",
       "}\n",
       "\n",
       "mpl.figure.prototype._init_toolbar = function() {\n",
       "    var fig = this;\n",
       "\n",
       "    var nav_element = $('<div/>');\n",
       "    nav_element.attr('style', 'width: 100%');\n",
       "    this.root.append(nav_element);\n",
       "\n",
       "    // Define a callback function for later on.\n",
       "    function toolbar_event(event) {\n",
       "        return fig.toolbar_button_onclick(event['data']);\n",
       "    }\n",
       "    function toolbar_mouse_event(event) {\n",
       "        return fig.toolbar_button_onmouseover(event['data']);\n",
       "    }\n",
       "\n",
       "    for(var toolbar_ind in mpl.toolbar_items) {\n",
       "        var name = mpl.toolbar_items[toolbar_ind][0];\n",
       "        var tooltip = mpl.toolbar_items[toolbar_ind][1];\n",
       "        var image = mpl.toolbar_items[toolbar_ind][2];\n",
       "        var method_name = mpl.toolbar_items[toolbar_ind][3];\n",
       "\n",
       "        if (!name) {\n",
       "            // put a spacer in here.\n",
       "            continue;\n",
       "        }\n",
       "        var button = $('<button/>');\n",
       "        button.addClass('ui-button ui-widget ui-state-default ui-corner-all ' +\n",
       "                        'ui-button-icon-only');\n",
       "        button.attr('role', 'button');\n",
       "        button.attr('aria-disabled', 'false');\n",
       "        button.click(method_name, toolbar_event);\n",
       "        button.mouseover(tooltip, toolbar_mouse_event);\n",
       "\n",
       "        var icon_img = $('<span/>');\n",
       "        icon_img.addClass('ui-button-icon-primary ui-icon');\n",
       "        icon_img.addClass(image);\n",
       "        icon_img.addClass('ui-corner-all');\n",
       "\n",
       "        var tooltip_span = $('<span/>');\n",
       "        tooltip_span.addClass('ui-button-text');\n",
       "        tooltip_span.html(tooltip);\n",
       "\n",
       "        button.append(icon_img);\n",
       "        button.append(tooltip_span);\n",
       "\n",
       "        nav_element.append(button);\n",
       "    }\n",
       "\n",
       "    var fmt_picker_span = $('<span/>');\n",
       "\n",
       "    var fmt_picker = $('<select/>');\n",
       "    fmt_picker.addClass('mpl-toolbar-option ui-widget ui-widget-content');\n",
       "    fmt_picker_span.append(fmt_picker);\n",
       "    nav_element.append(fmt_picker_span);\n",
       "    this.format_dropdown = fmt_picker[0];\n",
       "\n",
       "    for (var ind in mpl.extensions) {\n",
       "        var fmt = mpl.extensions[ind];\n",
       "        var option = $(\n",
       "            '<option/>', {selected: fmt === mpl.default_extension}).html(fmt);\n",
       "        fmt_picker.append(option);\n",
       "    }\n",
       "\n",
       "    // Add hover states to the ui-buttons\n",
       "    $( \".ui-button\" ).hover(\n",
       "        function() { $(this).addClass(\"ui-state-hover\");},\n",
       "        function() { $(this).removeClass(\"ui-state-hover\");}\n",
       "    );\n",
       "\n",
       "    var status_bar = $('<span class=\"mpl-message\"/>');\n",
       "    nav_element.append(status_bar);\n",
       "    this.message = status_bar[0];\n",
       "}\n",
       "\n",
       "mpl.figure.prototype.request_resize = function(x_pixels, y_pixels) {\n",
       "    // Request matplotlib to resize the figure. Matplotlib will then trigger a resize in the client,\n",
       "    // which will in turn request a refresh of the image.\n",
       "    this.send_message('resize', {'width': x_pixels, 'height': y_pixels});\n",
       "}\n",
       "\n",
       "mpl.figure.prototype.send_message = function(type, properties) {\n",
       "    properties['type'] = type;\n",
       "    properties['figure_id'] = this.id;\n",
       "    this.ws.send(JSON.stringify(properties));\n",
       "}\n",
       "\n",
       "mpl.figure.prototype.send_draw_message = function() {\n",
       "    if (!this.waiting) {\n",
       "        this.waiting = true;\n",
       "        this.ws.send(JSON.stringify({type: \"draw\", figure_id: this.id}));\n",
       "    }\n",
       "}\n",
       "\n",
       "\n",
       "mpl.figure.prototype.handle_save = function(fig, msg) {\n",
       "    var format_dropdown = fig.format_dropdown;\n",
       "    var format = format_dropdown.options[format_dropdown.selectedIndex].value;\n",
       "    fig.ondownload(fig, format);\n",
       "}\n",
       "\n",
       "\n",
       "mpl.figure.prototype.handle_resize = function(fig, msg) {\n",
       "    var size = msg['size'];\n",
       "    if (size[0] != fig.canvas.width || size[1] != fig.canvas.height) {\n",
       "        fig._resize_canvas(size[0], size[1]);\n",
       "        fig.send_message(\"refresh\", {});\n",
       "    };\n",
       "}\n",
       "\n",
       "mpl.figure.prototype.handle_rubberband = function(fig, msg) {\n",
       "    var x0 = msg['x0'] / mpl.ratio;\n",
       "    var y0 = (fig.canvas.height - msg['y0']) / mpl.ratio;\n",
       "    var x1 = msg['x1'] / mpl.ratio;\n",
       "    var y1 = (fig.canvas.height - msg['y1']) / mpl.ratio;\n",
       "    x0 = Math.floor(x0) + 0.5;\n",
       "    y0 = Math.floor(y0) + 0.5;\n",
       "    x1 = Math.floor(x1) + 0.5;\n",
       "    y1 = Math.floor(y1) + 0.5;\n",
       "    var min_x = Math.min(x0, x1);\n",
       "    var min_y = Math.min(y0, y1);\n",
       "    var width = Math.abs(x1 - x0);\n",
       "    var height = Math.abs(y1 - y0);\n",
       "\n",
       "    fig.rubberband_context.clearRect(\n",
       "        0, 0, fig.canvas.width / mpl.ratio, fig.canvas.height / mpl.ratio);\n",
       "\n",
       "    fig.rubberband_context.strokeRect(min_x, min_y, width, height);\n",
       "}\n",
       "\n",
       "mpl.figure.prototype.handle_figure_label = function(fig, msg) {\n",
       "    // Updates the figure title.\n",
       "    fig.header.textContent = msg['label'];\n",
       "}\n",
       "\n",
       "mpl.figure.prototype.handle_cursor = function(fig, msg) {\n",
       "    var cursor = msg['cursor'];\n",
       "    switch(cursor)\n",
       "    {\n",
       "    case 0:\n",
       "        cursor = 'pointer';\n",
       "        break;\n",
       "    case 1:\n",
       "        cursor = 'default';\n",
       "        break;\n",
       "    case 2:\n",
       "        cursor = 'crosshair';\n",
       "        break;\n",
       "    case 3:\n",
       "        cursor = 'move';\n",
       "        break;\n",
       "    }\n",
       "    fig.rubberband_canvas.style.cursor = cursor;\n",
       "}\n",
       "\n",
       "mpl.figure.prototype.handle_message = function(fig, msg) {\n",
       "    fig.message.textContent = msg['message'];\n",
       "}\n",
       "\n",
       "mpl.figure.prototype.handle_draw = function(fig, msg) {\n",
       "    // Request the server to send over a new figure.\n",
       "    fig.send_draw_message();\n",
       "}\n",
       "\n",
       "mpl.figure.prototype.handle_image_mode = function(fig, msg) {\n",
       "    fig.image_mode = msg['mode'];\n",
       "}\n",
       "\n",
       "mpl.figure.prototype.updated_canvas_event = function() {\n",
       "    // Called whenever the canvas gets updated.\n",
       "    this.send_message(\"ack\", {});\n",
       "}\n",
       "\n",
       "// A function to construct a web socket function for onmessage handling.\n",
       "// Called in the figure constructor.\n",
       "mpl.figure.prototype._make_on_message_function = function(fig) {\n",
       "    return function socket_on_message(evt) {\n",
       "        if (evt.data instanceof Blob) {\n",
       "            /* FIXME: We get \"Resource interpreted as Image but\n",
       "             * transferred with MIME type text/plain:\" errors on\n",
       "             * Chrome.  But how to set the MIME type?  It doesn't seem\n",
       "             * to be part of the websocket stream */\n",
       "            evt.data.type = \"image/png\";\n",
       "\n",
       "            /* Free the memory for the previous frames */\n",
       "            if (fig.imageObj.src) {\n",
       "                (window.URL || window.webkitURL).revokeObjectURL(\n",
       "                    fig.imageObj.src);\n",
       "            }\n",
       "\n",
       "            fig.imageObj.src = (window.URL || window.webkitURL).createObjectURL(\n",
       "                evt.data);\n",
       "            fig.updated_canvas_event();\n",
       "            fig.waiting = false;\n",
       "            return;\n",
       "        }\n",
       "        else if (typeof evt.data === 'string' && evt.data.slice(0, 21) == \"data:image/png;base64\") {\n",
       "            fig.imageObj.src = evt.data;\n",
       "            fig.updated_canvas_event();\n",
       "            fig.waiting = false;\n",
       "            return;\n",
       "        }\n",
       "\n",
       "        var msg = JSON.parse(evt.data);\n",
       "        var msg_type = msg['type'];\n",
       "\n",
       "        // Call the  \"handle_{type}\" callback, which takes\n",
       "        // the figure and JSON message as its only arguments.\n",
       "        try {\n",
       "            var callback = fig[\"handle_\" + msg_type];\n",
       "        } catch (e) {\n",
       "            console.log(\"No handler for the '\" + msg_type + \"' message type: \", msg);\n",
       "            return;\n",
       "        }\n",
       "\n",
       "        if (callback) {\n",
       "            try {\n",
       "                // console.log(\"Handling '\" + msg_type + \"' message: \", msg);\n",
       "                callback(fig, msg);\n",
       "            } catch (e) {\n",
       "                console.log(\"Exception inside the 'handler_\" + msg_type + \"' callback:\", e, e.stack, msg);\n",
       "            }\n",
       "        }\n",
       "    };\n",
       "}\n",
       "\n",
       "// from http://stackoverflow.com/questions/1114465/getting-mouse-location-in-canvas\n",
       "mpl.findpos = function(e) {\n",
       "    //this section is from http://www.quirksmode.org/js/events_properties.html\n",
       "    var targ;\n",
       "    if (!e)\n",
       "        e = window.event;\n",
       "    if (e.target)\n",
       "        targ = e.target;\n",
       "    else if (e.srcElement)\n",
       "        targ = e.srcElement;\n",
       "    if (targ.nodeType == 3) // defeat Safari bug\n",
       "        targ = targ.parentNode;\n",
       "\n",
       "    // jQuery normalizes the pageX and pageY\n",
       "    // pageX,Y are the mouse positions relative to the document\n",
       "    // offset() returns the position of the element relative to the document\n",
       "    var x = e.pageX - $(targ).offset().left;\n",
       "    var y = e.pageY - $(targ).offset().top;\n",
       "\n",
       "    return {\"x\": x, \"y\": y};\n",
       "};\n",
       "\n",
       "/*\n",
       " * return a copy of an object with only non-object keys\n",
       " * we need this to avoid circular references\n",
       " * http://stackoverflow.com/a/24161582/3208463\n",
       " */\n",
       "function simpleKeys (original) {\n",
       "  return Object.keys(original).reduce(function (obj, key) {\n",
       "    if (typeof original[key] !== 'object')\n",
       "        obj[key] = original[key]\n",
       "    return obj;\n",
       "  }, {});\n",
       "}\n",
       "\n",
       "mpl.figure.prototype.mouse_event = function(event, name) {\n",
       "    var canvas_pos = mpl.findpos(event)\n",
       "\n",
       "    if (name === 'button_press')\n",
       "    {\n",
       "        this.canvas.focus();\n",
       "        this.canvas_div.focus();\n",
       "    }\n",
       "\n",
       "    var x = canvas_pos.x * mpl.ratio;\n",
       "    var y = canvas_pos.y * mpl.ratio;\n",
       "\n",
       "    this.send_message(name, {x: x, y: y, button: event.button,\n",
       "                             step: event.step,\n",
       "                             guiEvent: simpleKeys(event)});\n",
       "\n",
       "    /* This prevents the web browser from automatically changing to\n",
       "     * the text insertion cursor when the button is pressed.  We want\n",
       "     * to control all of the cursor setting manually through the\n",
       "     * 'cursor' event from matplotlib */\n",
       "    event.preventDefault();\n",
       "    return false;\n",
       "}\n",
       "\n",
       "mpl.figure.prototype._key_event_extra = function(event, name) {\n",
       "    // Handle any extra behaviour associated with a key event\n",
       "}\n",
       "\n",
       "mpl.figure.prototype.key_event = function(event, name) {\n",
       "\n",
       "    // Prevent repeat events\n",
       "    if (name == 'key_press')\n",
       "    {\n",
       "        if (event.which === this._key)\n",
       "            return;\n",
       "        else\n",
       "            this._key = event.which;\n",
       "    }\n",
       "    if (name == 'key_release')\n",
       "        this._key = null;\n",
       "\n",
       "    var value = '';\n",
       "    if (event.ctrlKey && event.which != 17)\n",
       "        value += \"ctrl+\";\n",
       "    if (event.altKey && event.which != 18)\n",
       "        value += \"alt+\";\n",
       "    if (event.shiftKey && event.which != 16)\n",
       "        value += \"shift+\";\n",
       "\n",
       "    value += 'k';\n",
       "    value += event.which.toString();\n",
       "\n",
       "    this._key_event_extra(event, name);\n",
       "\n",
       "    this.send_message(name, {key: value,\n",
       "                             guiEvent: simpleKeys(event)});\n",
       "    return false;\n",
       "}\n",
       "\n",
       "mpl.figure.prototype.toolbar_button_onclick = function(name) {\n",
       "    if (name == 'download') {\n",
       "        this.handle_save(this, null);\n",
       "    } else {\n",
       "        this.send_message(\"toolbar_button\", {name: name});\n",
       "    }\n",
       "};\n",
       "\n",
       "mpl.figure.prototype.toolbar_button_onmouseover = function(tooltip) {\n",
       "    this.message.textContent = tooltip;\n",
       "};\n",
       "mpl.toolbar_items = [[\"Home\", \"Reset original view\", \"fa fa-home icon-home\", \"home\"], [\"Back\", \"Back to previous view\", \"fa fa-arrow-left icon-arrow-left\", \"back\"], [\"Forward\", \"Forward to next view\", \"fa fa-arrow-right icon-arrow-right\", \"forward\"], [\"\", \"\", \"\", \"\"], [\"Pan\", \"Pan axes with left mouse, zoom with right\", \"fa fa-arrows icon-move\", \"pan\"], [\"Zoom\", \"Zoom to rectangle\", \"fa fa-square-o icon-check-empty\", \"zoom\"], [\"\", \"\", \"\", \"\"], [\"Download\", \"Download plot\", \"fa fa-floppy-o icon-save\", \"download\"]];\n",
       "\n",
       "mpl.extensions = [\"eps\", \"pdf\", \"png\", \"ps\", \"raw\", \"svg\"];\n",
       "\n",
       "mpl.default_extension = \"png\";var comm_websocket_adapter = function(comm) {\n",
       "    // Create a \"websocket\"-like object which calls the given IPython comm\n",
       "    // object with the appropriate methods. Currently this is a non binary\n",
       "    // socket, so there is still some room for performance tuning.\n",
       "    var ws = {};\n",
       "\n",
       "    ws.close = function() {\n",
       "        comm.close()\n",
       "    };\n",
       "    ws.send = function(m) {\n",
       "        //console.log('sending', m);\n",
       "        comm.send(m);\n",
       "    };\n",
       "    // Register the callback with on_msg.\n",
       "    comm.on_msg(function(msg) {\n",
       "        //console.log('receiving', msg['content']['data'], msg);\n",
       "        // Pass the mpl event to the overridden (by mpl) onmessage function.\n",
       "        ws.onmessage(msg['content']['data'])\n",
       "    });\n",
       "    return ws;\n",
       "}\n",
       "\n",
       "mpl.mpl_figure_comm = function(comm, msg) {\n",
       "    // This is the function which gets called when the mpl process\n",
       "    // starts-up an IPython Comm through the \"matplotlib\" channel.\n",
       "\n",
       "    var id = msg.content.data.id;\n",
       "    // Get hold of the div created by the display call when the Comm\n",
       "    // socket was opened in Python.\n",
       "    var element = $(\"#\" + id);\n",
       "    var ws_proxy = comm_websocket_adapter(comm)\n",
       "\n",
       "    function ondownload(figure, format) {\n",
       "        window.open(figure.imageObj.src);\n",
       "    }\n",
       "\n",
       "    var fig = new mpl.figure(id, ws_proxy,\n",
       "                           ondownload,\n",
       "                           element.get(0));\n",
       "\n",
       "    // Call onopen now - mpl needs it, as it is assuming we've passed it a real\n",
       "    // web socket which is closed, not our websocket->open comm proxy.\n",
       "    ws_proxy.onopen();\n",
       "\n",
       "    fig.parent_element = element.get(0);\n",
       "    fig.cell_info = mpl.find_output_cell(\"<div id='\" + id + \"'></div>\");\n",
       "    if (!fig.cell_info) {\n",
       "        console.error(\"Failed to find cell for figure\", id, fig);\n",
       "        return;\n",
       "    }\n",
       "\n",
       "    var output_index = fig.cell_info[2]\n",
       "    var cell = fig.cell_info[0];\n",
       "\n",
       "};\n",
       "\n",
       "mpl.figure.prototype.handle_close = function(fig, msg) {\n",
       "    var width = fig.canvas.width/mpl.ratio\n",
       "    fig.root.unbind('remove')\n",
       "\n",
       "    // Update the output cell to use the data from the current canvas.\n",
       "    fig.push_to_output();\n",
       "    var dataURL = fig.canvas.toDataURL();\n",
       "    // Re-enable the keyboard manager in IPython - without this line, in FF,\n",
       "    // the notebook keyboard shortcuts fail.\n",
       "    IPython.keyboard_manager.enable()\n",
       "    $(fig.parent_element).html('<img src=\"' + dataURL + '\" width=\"' + width + '\">');\n",
       "    fig.close_ws(fig, msg);\n",
       "}\n",
       "\n",
       "mpl.figure.prototype.close_ws = function(fig, msg){\n",
       "    fig.send_message('closing', msg);\n",
       "    // fig.ws.close()\n",
       "}\n",
       "\n",
       "mpl.figure.prototype.push_to_output = function(remove_interactive) {\n",
       "    // Turn the data on the canvas into data in the output cell.\n",
       "    var width = this.canvas.width/mpl.ratio\n",
       "    var dataURL = this.canvas.toDataURL();\n",
       "    this.cell_info[1]['text/html'] = '<img src=\"' + dataURL + '\" width=\"' + width + '\">';\n",
       "}\n",
       "\n",
       "mpl.figure.prototype.updated_canvas_event = function() {\n",
       "    // Tell IPython that the notebook contents must change.\n",
       "    IPython.notebook.set_dirty(true);\n",
       "    this.send_message(\"ack\", {});\n",
       "    var fig = this;\n",
       "    // Wait a second, then push the new image to the DOM so\n",
       "    // that it is saved nicely (might be nice to debounce this).\n",
       "    setTimeout(function () { fig.push_to_output() }, 1000);\n",
       "}\n",
       "\n",
       "mpl.figure.prototype._init_toolbar = function() {\n",
       "    var fig = this;\n",
       "\n",
       "    var nav_element = $('<div/>');\n",
       "    nav_element.attr('style', 'width: 100%');\n",
       "    this.root.append(nav_element);\n",
       "\n",
       "    // Define a callback function for later on.\n",
       "    function toolbar_event(event) {\n",
       "        return fig.toolbar_button_onclick(event['data']);\n",
       "    }\n",
       "    function toolbar_mouse_event(event) {\n",
       "        return fig.toolbar_button_onmouseover(event['data']);\n",
       "    }\n",
       "\n",
       "    for(var toolbar_ind in mpl.toolbar_items){\n",
       "        var name = mpl.toolbar_items[toolbar_ind][0];\n",
       "        var tooltip = mpl.toolbar_items[toolbar_ind][1];\n",
       "        var image = mpl.toolbar_items[toolbar_ind][2];\n",
       "        var method_name = mpl.toolbar_items[toolbar_ind][3];\n",
       "\n",
       "        if (!name) { continue; };\n",
       "\n",
       "        var button = $('<button class=\"btn btn-default\" href=\"#\" title=\"' + name + '\"><i class=\"fa ' + image + ' fa-lg\"></i></button>');\n",
       "        button.click(method_name, toolbar_event);\n",
       "        button.mouseover(tooltip, toolbar_mouse_event);\n",
       "        nav_element.append(button);\n",
       "    }\n",
       "\n",
       "    // Add the status bar.\n",
       "    var status_bar = $('<span class=\"mpl-message\" style=\"text-align:right; float: right;\"/>');\n",
       "    nav_element.append(status_bar);\n",
       "    this.message = status_bar[0];\n",
       "\n",
       "    // Add the close button to the window.\n",
       "    var buttongrp = $('<div class=\"btn-group inline pull-right\"></div>');\n",
       "    var button = $('<button class=\"btn btn-mini btn-primary\" href=\"#\" title=\"Stop Interaction\"><i class=\"fa fa-power-off icon-remove icon-large\"></i></button>');\n",
       "    button.click(function (evt) { fig.handle_close(fig, {}); } );\n",
       "    button.mouseover('Stop Interaction', toolbar_mouse_event);\n",
       "    buttongrp.append(button);\n",
       "    var titlebar = this.root.find($('.ui-dialog-titlebar'));\n",
       "    titlebar.prepend(buttongrp);\n",
       "}\n",
       "\n",
       "mpl.figure.prototype._root_extra_style = function(el){\n",
       "    var fig = this\n",
       "    el.on(\"remove\", function(){\n",
       "\tfig.close_ws(fig, {});\n",
       "    });\n",
       "}\n",
       "\n",
       "mpl.figure.prototype._canvas_extra_style = function(el){\n",
       "    // this is important to make the div 'focusable\n",
       "    el.attr('tabindex', 0)\n",
       "    // reach out to IPython and tell the keyboard manager to turn it's self\n",
       "    // off when our div gets focus\n",
       "\n",
       "    // location in version 3\n",
       "    if (IPython.notebook.keyboard_manager) {\n",
       "        IPython.notebook.keyboard_manager.register_events(el);\n",
       "    }\n",
       "    else {\n",
       "        // location in version 2\n",
       "        IPython.keyboard_manager.register_events(el);\n",
       "    }\n",
       "\n",
       "}\n",
       "\n",
       "mpl.figure.prototype._key_event_extra = function(event, name) {\n",
       "    var manager = IPython.notebook.keyboard_manager;\n",
       "    if (!manager)\n",
       "        manager = IPython.keyboard_manager;\n",
       "\n",
       "    // Check for shift+enter\n",
       "    if (event.shiftKey && event.which == 13) {\n",
       "        this.canvas_div.blur();\n",
       "        // select the cell after this one\n",
       "        var index = IPython.notebook.find_cell_index(this.cell_info[0]);\n",
       "        IPython.notebook.select(index + 1);\n",
       "    }\n",
       "}\n",
       "\n",
       "mpl.figure.prototype.handle_save = function(fig, msg) {\n",
       "    fig.ondownload(fig, null);\n",
       "}\n",
       "\n",
       "\n",
       "mpl.find_output_cell = function(html_output) {\n",
       "    // Return the cell and output element which can be found *uniquely* in the notebook.\n",
       "    // Note - this is a bit hacky, but it is done because the \"notebook_saving.Notebook\"\n",
       "    // IPython event is triggered only after the cells have been serialised, which for\n",
       "    // our purposes (turning an active figure into a static one), is too late.\n",
       "    var cells = IPython.notebook.get_cells();\n",
       "    var ncells = cells.length;\n",
       "    for (var i=0; i<ncells; i++) {\n",
       "        var cell = cells[i];\n",
       "        if (cell.cell_type === 'code'){\n",
       "            for (var j=0; j<cell.output_area.outputs.length; j++) {\n",
       "                var data = cell.output_area.outputs[j];\n",
       "                if (data.data) {\n",
       "                    // IPython >= 3 moved mimebundle to data attribute of output\n",
       "                    data = data.data;\n",
       "                }\n",
       "                if (data['text/html'] == html_output) {\n",
       "                    return [cell, data, j];\n",
       "                }\n",
       "            }\n",
       "        }\n",
       "    }\n",
       "}\n",
       "\n",
       "// Register the function which deals with the matplotlib target/channel.\n",
       "// The kernel may be null if the page has been refreshed.\n",
       "if (IPython.notebook.kernel != null) {\n",
       "    IPython.notebook.kernel.comm_manager.register_target('matplotlib', mpl.mpl_figure_comm);\n",
       "}\n"
      ],
      "text/plain": [
       "<IPython.core.display.Javascript object>"
      ]
     },
     "metadata": {},
     "output_type": "display_data"
    },
    {
     "data": {
      "text/html": [
       "<img src=\"data:image/png;base64,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\" width=\"640\">"
      ],
      "text/plain": [
       "<IPython.core.display.HTML object>"
      ]
     },
     "metadata": {},
     "output_type": "display_data"
    }
   ],
   "source": [
    "# histogram them\n",
    "fig, ax = pyplot.subplots()\n",
    "ax.hist(posterior['x'], bins=10, histtype='step', label='x')\n",
    "ax.hist(posterior['y'], bins=10, histtype='step', label='y')\n",
    "ax.legend()\n",
    "fig.show()"
   ]
  },
  {
   "cell_type": "markdown",
   "metadata": {},
   "source": [
    "Let's check the mean and variance of our estimated posterior. These should be $\\bar{x} \\approx 2, \\sigma^2_{x} \\approx 1$ and $\\bar{y} \\approx 5, \\sigma^2_{y} \\approx 2$:"
   ]
  },
  {
   "cell_type": "code",
   "execution_count": 26,
   "metadata": {},
   "outputs": [
    {
     "name": "stdout",
     "output_type": "stream",
     "text": [
      "x mean: 1.9450843911636448 var: 1.192711825889991\n",
      "y mean: 4.555893558712632 var: 1.2443770546730883\n"
     ]
    }
   ],
   "source": [
    "for param in posterior:\n",
    "    s = posterior[param]\n",
    "    print(param, 'mean: {}'.format(s.mean()), 'var: {}'.format(s.var()))"
   ]
  },
  {
   "cell_type": "markdown",
   "metadata": {},
   "source": [
    "The values are close, but not exact. This isn't too surprising since we only have $\\mathcal{O}(100)$ samples. To get more samples, the sampler can be run longer."
   ]
  },
  {
   "cell_type": "markdown",
   "metadata": {},
   "source": [
    "## Create an animation of the results"
   ]
  },
  {
   "cell_type": "markdown",
   "metadata": {},
   "source": [
    "To visualize the results, we'll create an animation showing how the chains evolved. We'll do this by plotting one point for each chain, with each frame in the animation representing a single iteration."
   ]
  },
  {
   "cell_type": "markdown",
   "metadata": {},
   "source": [
    "***Note: To keep file size down, the animation has not been created for the version of this notebook uploaded to the repository.***"
   ]
  },
  {
   "cell_type": "code",
   "execution_count": null,
   "metadata": {},
   "outputs": [],
   "source": [
    "from matplotlib import animation"
   ]
  },
  {
   "cell_type": "code",
   "execution_count": null,
   "metadata": {},
   "outputs": [],
   "source": [
    "# Prepare an array to create a density map showing the shape of the model posterior\n",
    "npts = 100\n",
    "xmean, ymean = model.likelihood_dist.mean\n",
    "xsig = model.likelihood_dist.cov[0,0]**0.5\n",
    "ysig = model.likelihood_dist.cov[1,1]**0.5\n",
    "X, Y = numpy.mgrid[xmean-3*xsig:xmean+3*xsig:complex(0, npts),\n",
    "                   ymean-3*ysig:ymean+3*ysig:complex(0, npts)]\n",
    "Z = numpy.zeros(X.shape)\n",
    "for ii in range(Z.shape[0]):\n",
    "    for jj in range(Z.shape[1]):\n",
    "        logl, logp = model(x=X[ii,jj], y=Y[ii,jj])\n",
    "        Z[ii, jj] = numpy.exp(logl+logp)"
   ]
  },
  {
   "cell_type": "code",
   "execution_count": null,
   "metadata": {},
   "outputs": [],
   "source": [
    "# we'll just animate the first 200 iterations; change this to\n",
    "# nframes = xdata.shape[1]\n",
    "# if you want to see all iterations\n",
    "nframes = 200"
   ]
  },
  {
   "cell_type": "code",
   "execution_count": null,
   "metadata": {},
   "outputs": [],
   "source": [
    "fig, ax = pyplot.subplots()\n",
    "\n",
    "positions = sampler.positions\n",
    "xdata = positions['x']\n",
    "ydata = positions['y']\n",
    "\n",
    "# Plot density map showing the shape of the true posterior density\n",
    "ax.imshow(numpy.rot90(Z), extent=[X.min(), X.max(), Y.min(), Y.max()],\n",
    "          aspect='auto', cmap='binary', zorder=-3)\n",
    "\n",
    "# Put an x at the maximum posterior point\n",
    "ax.scatter(model.mean[0], model.mean[1], marker='x', color='w', s=10, zorder=-2)\n",
    "ax.set_xlabel('x')\n",
    "ax.set_ylabel('y')\n",
    "# create the scatter points\n",
    "ptsize = 60\n",
    "\n",
    "# we'll include the last bufferlen number of steps a chain visited, having the size and transparency\n",
    "# exponentially damped with each new frame\n",
    "bufferlen = 16\n",
    "alphas = numpy.exp(-4*(numpy.arange(bufferlen))/float(bufferlen))\n",
    "sizes = ptsize * alphas\n",
    "#colors = numpy.array(['C{}'.format(ii) for ii in range(nchains)])\n",
    "colors = numpy.arange(nchains)\n",
    "plts = [ax.scatter(xdata[:, bufferlen-ii-1], ydata[:, bufferlen-ii-1], c=colors, s=sizes[ii],\n",
    "                   edgecolors='w', linewidths=0.5,\n",
    "                   alpha=alphas[ii], zorder=bufferlen-ii, marker='s' if ii==0 else 'o', cmap='jet')\n",
    "        for ii in range(bufferlen)]\n",
    "# put a + showing the average of the chain positions at the current iteration\n",
    "meanplt = ax.scatter(xdata[:,0].mean(), ydata[:,0].mean(), marker='P', c='w', edgecolors='k', linewidths=0.5,\n",
    "                     zorder=bufferlen+1)\n",
    "\n",
    "# add some text giving the iteration\n",
    "itertxt = 'Iteration {}'\n",
    "txt = ax.annotate(itertxt.format(1), (0.03, 0.94), xycoords='axes fraction')\n",
    "\n",
    "def animate(ii):\n",
    "    txt.set_text(itertxt.format(ii+1))\n",
    "    for jj,plt in enumerate(plts):\n",
    "        plt.set_offsets(numpy.array([xdata[:, max(ii-jj, 0)], ydata[:, max(ii-jj, 0)]]).T)\n",
    "    meanplt.set_offsets([xdata[:,ii].mean(), ydata[:,ii].mean()])\n",
    "    # zoom in as it narrows on the result\n",
    "    istart = max(ii-bufferlen, 0)\n",
    "    # smooth it out a bit\n",
    "    xmin = numpy.array([xdata[:, max(istart-kk, 0):].min() for kk in range(50)]).mean()\n",
    "    xmax = numpy.array([xdata[:, max(istart-kk, 0):].max() for kk in range(50)]).mean()\n",
    "    ymin = numpy.array([ydata[:, max(istart-kk, 0):].min() for kk in range(50)]).mean()\n",
    "    ymax = numpy.array([ydata[:, max(istart-kk, 0):].max() for kk in range(50)]).mean()\n",
    "    ax.set_xlim((1.1 if xmin < 1 else 0.9)*xmin, (0.9 if xmax < 1 else 1.1)*xmax)\n",
    "    ax.set_ylim((1.1 if ymin < 1 else 0.9)*ymin, (0.9 if ymax < 1 else 1.1)*ymax)\n",
    "\n",
    "\n",
    "ani = animation.FuncAnimation(fig, animate, frames=nframes, interval=160, blit=True)"
   ]
  },
  {
   "cell_type": "markdown",
   "metadata": {},
   "source": [
    "Save the animation:"
   ]
  },
  {
   "cell_type": "code",
   "execution_count": null,
   "metadata": {},
   "outputs": [],
   "source": [
    "ani.save('chain_animation.mp4')"
   ]
  },
  {
   "cell_type": "markdown",
   "metadata": {},
   "source": [
    "The result:"
   ]
  },
  {
   "cell_type": "code",
   "execution_count": null,
   "metadata": {},
   "outputs": [],
   "source": [
    "%%HTML\n",
    "<video width=\"640\" height=\"480\" controls>\n",
    "  <source src=\"chain_animation.mp4\" type=\"video/mp4\">\n",
    "</video>"
   ]
  },
  {
   "cell_type": "code",
   "execution_count": null,
   "metadata": {},
   "outputs": [],
   "source": []
  }
 ],
 "metadata": {
  "kernelspec": {
   "display_name": "Python 3",
   "language": "python",
   "name": "python3"
  },
  "language_info": {
   "codemirror_mode": {
    "name": "ipython",
    "version": 3
   },
   "file_extension": ".py",
   "mimetype": "text/x-python",
   "name": "python",
   "nbconvert_exporter": "python",
   "pygments_lexer": "ipython3",
   "version": "3.6.9"
  }
 },
 "nbformat": 4,
 "nbformat_minor": 2
}
